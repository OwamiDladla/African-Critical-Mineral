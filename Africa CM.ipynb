# 1. DEPENDENCIES AND IMPORTS
!pip install tk folium matplotlib pillow pandas

import tkinter as tk
from tkinter import ttk, messagebox, scrolledtext
import json
import os
import webbrowser
from PIL import Image, ImageTk, ImageDraw
import matplotlib.pyplot as plt
from matplotlib.backends.backend_tkagg import FigureCanvasTkAgg
import pandas as pd
import csv
import folium
import tempfile
import threading
from folium import plugins
import numpy as np

# 2. ENHANCED DATA MANAGER WITH MINERAL LOCATIONS
class DataManager:
    def __init__(self, data_dir="data"):
        self.data_dir = data_dir
        self.ensure_data_directory()
        self.load_csv_data()
        self.load_mineral_locations()
    
    def ensure_data_directory(self):
        """Create data directory if it doesn't exist"""
        if not os.path.exists(self.data_dir):
            os.makedirs(self.data_dir)
    
    def load_csv_data(self):
        """Load and parse CSV data"""
        # Minerals data
        self.minerals_csv = [
            {
                "MineralID": 1,
                "MineralName": "Cobalt",
                "Description": "Used in batteries and alloys",
                "MarketPriceUSD_per_tonne": 52000
            },
            {
                "MineralID": 2,
                "MineralName": "Lithium",
                "Description": "Essential for EV batteries",
                "MarketPriceUSD_per_tonne": 70000
            },
            {
                "MineralID": 3,
                "MineralName": "Graphite",
                "Description": "Used in batteries and lubricants",
                "MarketPriceUSD_per_tonne": 800
            },
            {
                "MineralID": 4,
                "MineralName": "Manganese",
                "Description": "Used in steel production",
                "MarketPriceUSD_per_tonne": 2200
            }
        ]
        
        # Production stats data
        self.production_stats_csv = [
            {
                "StatID": 1, "Year": 2023, "CountryID": 1, "MineralID": 1,
                "Production_tonnes": 100000, "ExportValue_BillionUSD": 5.2
            },
            {
                "StatID": 2, "Year": 2023, "CountryID": 2, "MineralID": 2,
                "Production_tonnes": 120000, "ExportValue_BillionUSD": 8.4
            },
            {
                "StatID": 3, "Year": 2023, "CountryID": 3, "MineralID": 3,
                "Production_tonnes": 50000, "ExportValue_BillionUSD": 0.9
            },
            {
                "StatID": 4, "Year": 2023, "CountryID": 4, "MineralID": 4,
                "Production_tonnes": 200000, "ExportValue_BillionUSD": 2.7
            },
            {
                "StatID": 5, "Year": 2024, "CountryID": 1, "MineralID": 1,
                "Production_tonnes": 110000, "ExportValue_BillionUSD": 6.0
            },
            {
                "StatID": 6, "Year": 2024, "CountryID": 2, "MineralID": 2,
                "Production_tonnes": 130000, "ExportValue_BillionUSD": 9.1
            }
        ]
        
        # Countries data
        self.countries_csv = [
            {
                "CountryID": 1,
                "CountryName": "DRC (Congo)",
                "GDP_BillionUSD": 55,
                "MiningRevenue_BillionUSD": 12,
                "KeyProjects": "Cobalt expansion in Kolwezi"
            },
            {
                "CountryID": 2,
                "CountryName": "South Africa",
                "GDP_BillionUSD": 350,
                "MiningRevenue_BillionUSD": 25,
                "KeyProjects": "Bushveld Lithium Project"
            },
            {
                "CountryID": 3,
                "CountryName": "Mozambique",
                "GDP_BillionUSD": 20,
                "MiningRevenue_BillionUSD": 4,
                "KeyProjects": "Balama Graphite Project"
            },
            {
                "CountryID": 4,
                "CountryName": "Namibia",
                "GDP_BillionUSD": 15,
                "MiningRevenue_BillionUSD": 3,
                "KeyProjects": "Otjozondu Manganese Project"
            }
        ]
    
    def load_mineral_locations(self):
        """Load mineral mining locations with coordinates"""
        self.mineral_locations = [
            {
                "name": "Tenke Fungurume Mine",
                "mineral": "Cobalt",
                "country": "Democratic Republic of Congo",
                "latitude": -10.5833,
                "longitude": 26.4167,
                "type": "Open Pit",
                "operator": "China Molybdenum",
                "production": "20,000 tonnes/year",
                "reserves": "3.2 million tonnes",
                "status": "Operational",
                "investment": "2.5 Billion USD"
            },
            {
                "name": "Kolwezi Cobalt Mines",
                "mineral": "Cobalt",
                "country": "Democratic Republic of Congo",
                "latitude": -10.7167,
                "longitude": 25.4667,
                "type": "Underground & Open Pit",
                "operator": "Multiple Operators",
                "production": "45,000 tonnes/year",
                "reserves": "5.8 million tonnes",
                "status": "Operational",
                "investment": "1.8 Billion USD"
            },
            {
                "name": "Bushveld Lithium Project",
                "mineral": "Lithium",
                "country": "South Africa",
                "latitude": -25.0,
                "longitude": 28.5,
                "type": "Hard Rock",
                "operator": "African Lithium",
                "production": "15,000 tonnes/year",
                "reserves": "1.5 million tonnes",
                "status": "Development",
                "investment": "500 Million USD"
            },
            {
                "name": "Balama Graphite Project",
                "mineral": "Graphite",
                "country": "Mozambique",
                "latitude": -13.1833,
                "longitude": 38.5833,
                "type": "Open Pit",
                "operator": "Syrah Resources",
                "production": "50,000 tonnes/year",
                "reserves": "118 million tonnes",
                "status": "Operational",
                "investment": "200 Million USD"
            },
            {
                "name": "Otjozondu Manganese Mine",
                "mineral": "Manganese",
                "country": "Namibia",
                "latitude": -21.4333,
                "longitude": 16.9667,
                "type": "Open Pit",
                "operator": "Omegacorp",
                "production": "200,000 tonnes/year",
                "reserves": "15 million tonnes",
                "status": "Operational",
                "investment": "150 Million USD"
            },
            {
                "name": "Kalahari Manganese Field",
                "mineral": "Manganese",
                "country": "South Africa",
                "latitude": -27.5,
                "longitude": 22.5,
                "type": "Underground",
                "operator": "Assmang",
                "production": "3.2 million tonnes/year",
                "reserves": "450 million tonnes",
                "status": "Operational",
                "investment": "1.2 Billion USD"
            },
            {
                "name": "Zulu Lithium Project",
                "mineral": "Lithium",
                "country": "Zimbabwe",
                "latitude": -20.0833,
                "longitude": 30.8333,
                "type": "Pegmatite",
                "operator": "Premier African Minerals",
                "production": "Planned: 50,000 tonnes/year",
                "reserves": "20.1 million tonnes",
                "status": "Development",
                "investment": "300 Million USD"
            },
            {
                "name": "Goulamina Lithium Project",
                "mineral": "Lithium",
                "country": "Mali",
                "latitude": 11.1667,
                "longitude": -7.2500,
                "type": "Spodumene",
                "operator": "Leo Lithium",
                "production": "Planned: 500,000 tonnes/year",
                "reserves": "31.2 million tonnes",
                "status": "Development",
                "investment": "400 Million USD"
            },
            {
                "name": "Kamoa-Kakula Copper Complex",
                "mineral": "Cobalt",
                "country": "Democratic Republic of Congo",
                "latitude": -10.9333,
                "longitude": 25.6000,
                "type": "Underground",
                "operator": "Ivanhoe Mines",
                "production": "15,000 tonnes/year (Cobalt by-product)",
                "reserves": "2.5 million tonnes",
                "status": "Operational",
                "investment": "3.5 Billion USD"
            },
            {
                "name": "Rhyolite Ridge Lithium Project",
                "mineral": "Lithium",
                "country": "Namibia",
                "latitude": -22.5000,
                "longitude": 15.8000,
                "type": "Sedimentary",
                "operator": "Ioneer Ltd",
                "production": "Planned: 20,000 tonnes/year",
                "reserves": "18.5 million tonnes",
                "status": "Development",
                "investment": "600 Million USD"
            }
        ]
        
        # Mineral colors for mapping
        self.mineral_colors = {
            "Cobalt": "red",
            "Lithium": "blue", 
            "Graphite": "green",
            "Manganese": "purple"
        }
        
        # Mineral icons
        self.mineral_icons = {
            "Cobalt": "info-sign",
            "Lithium": "star",
            "Graphite": "certificate",
            "Manganese": "asterisk"
        }
    
    def get_mineral_locations(self, mineral_name=None, country_name=None):
        """Get mineral locations with optional filtering"""
        locations = self.mineral_locations
        
        if mineral_name and mineral_name != "All Minerals":
            locations = [loc for loc in locations if loc['mineral'].lower() == mineral_name.lower()]
        
        if country_name and country_name != "All Countries":
            locations = [loc for loc in locations if loc['country'].lower() == country_name.lower()]
        
        return locations
    
    def get_minerals_by_country(self, country_name):
        """Get all minerals found in a specific country"""
        locations = self.get_mineral_locations(country_name=country_name)
        minerals = set(loc['mineral'] for loc in locations)
        return list(minerals)
    
    def get_mineral_color(self, mineral_name):
        """Get color for a specific mineral"""
        return self.mineral_colors.get(mineral_name, "gray")
    
    def get_mineral_icon(self, mineral_name):
        """Get icon for a specific mineral"""
        return self.mineral_icons.get(mineral_name, "info-sign")
    
    def load_data(self, filename):
        """Load data from a JSON file"""
        filepath = os.path.join(self.data_dir, filename)
        try:
            with open(filepath, 'r', encoding='utf-8') as file:
                return json.load(file)
        except FileNotFoundError:
            print(f"File {filepath} not found. Returning empty list.")
            return []
        except json.JSONDecodeError:
            print(f"Error decoding JSON from {filepath}. Returning empty list.")
            return []
    
    def save_data(self, filename, data):
        """Save data to a JSON file"""
        filepath = os.path.join(self.data_dir, filename)
        try:
            with open(filepath, 'w', encoding='utf-8') as file:
                json.dump(data, file, indent=2, ensure_ascii=False)
            return True
        except Exception as e:
            print(f"Error saving to {filepath}: {e}")
            return False
    
    def get_user_by_credentials(self, username, password):
        """Find user by username and password"""
        users = self.load_data("users.json")
        for user in users:
            if user['username'] == username and user['password'] == password:
                return user
        return None
    
    def get_minerals(self):
        """Get all minerals - combines JSON and CSV data"""
        json_minerals = self.load_data("minerals.json")
        # Enhance JSON minerals with CSV data
        for mineral in json_minerals:
            csv_mineral = self.get_mineral_from_csv(mineral['name'])
            if csv_mineral:
                mineral['market_price'] = csv_mineral['MarketPriceUSD_per_tonne']
                mineral['description'] = csv_mineral['Description']
        return json_minerals
    
    def get_mineral_from_csv(self, mineral_name):
        """Get mineral data from CSV by name"""
        for mineral in self.minerals_csv:
            if mineral['MineralName'].lower() == mineral_name.lower():
                return mineral
        return None
    
    def get_countries(self):
        """Get all countries - FIXED VERSION"""
        # Load countries from JSON file
        json_countries = self.load_data("countries.json")
        
        # If JSON file is empty or doesn't exist, use the data from setup
        if not json_countries:
            json_countries = [
                {
                    "name": "Democratic Republic of Congo",
                    "flag": "assets/flags/drc.png",
                    "key_minerals": ["Cobalt", "Copper", "Diamonds", "Gold", "Coltan"],
                    "production_stats": {
                        "Cobalt": "120,000 t",
                        "Copper": "1.8 Mt",
                        "Diamonds": "12 million carats"
                    },
                    "gdp_growth": "6.2%",
                    "mining_contribution": "28% of GDP",
                    "key_projects": [
                        {
                            "name": "Tenke Fungurume",
                            "mineral": "Cobalt/Copper",
                            "status": "Operational",
                            "operator": "China Molybdenum"
                        }
                    ]
                },
                {
                    "name": "South Africa",
                    "flag": "assets/flags/south_africa.png",
                    "key_minerals": ["Platinum", "Manganese", "Chromium", "Gold", "Diamonds"],
                    "production_stats": {
                        "Manganese": "7.2 Mt",
                        "Platinum": "130 t",
                        "Chromium": "16.1 Mt",
                        "Gold": "110 t"
                    },
                    "gdp_growth": "1.5%",
                    "mining_contribution": "7.3% of GDP",
                    "key_projects": [
                        {
                            "name": "Moab Khotsong Mine",
                            "mineral": "Gold",
                            "status": "Operational",
                            "operator": "Harmony Gold"
                        }
                    ]
                },
                {
                    "name": "Mozambique",
                    "flag": "assets/flags/mozambique.png",
                    "key_minerals": ["Graphite", "Coal", "Titanium", "Aluminum"],
                    "production_stats": {
                        "Graphite": "50,000 t",
                        "Coal": "15 Mt",
                        "Titanium": "500,000 t"
                    },
                    "gdp_growth": "4.5%",
                    "mining_contribution": "20% of GDP",
                    "key_projects": [
                        {
                            "name": "Balama Graphite Project",
                            "mineral": "Graphite",
                            "status": "Operational",
                            "operator": "Syrah Resources"
                        }
                    ]
                },
                {
                    "name": "Namibia",
                    "flag": "assets/flags/namibia.png",
                    "key_minerals": ["Manganese", "Uranium", "Diamonds", "Copper"],
                    "production_stats": {
                        "Manganese": "200,000 t",
                        "Uranium": "3,500 t",
                        "Diamonds": "1.5 million carats"
                    },
                    "gdp_growth": "3.8%",
                    "mining_contribution": "20% of GDP",
                    "key_projects": [
                        {
                            "name": "Otjozondu Manganese Project",
                            "mineral": "Manganese",
                            "status": "Operational",
                            "operator": "Omegacorp"
                        }
                    ]
                }
            ]
        
        # Enhance JSON countries with CSV data - FIXED VERSION
        for country in json_countries:
            csv_country = self.get_country_from_csv(country['name'])
            if csv_country:
                # Add GDP and mining revenue from CSV
                country['gdp'] = csv_country['GDP_BillionUSD']
                country['mining_revenue'] = csv_country['MiningRevenue_BillionUSD']
                # Don't overwrite existing key_projects, just add CSV project if needed
                if 'key_projects' not in country or not country['key_projects']:
                    country['key_projects'] = [{"name": csv_country['KeyProjects'], "mineral": "Various", "status": "Operational", "operator": "Various"}]
        
        return json_countries
    
    def get_country_from_csv(self, country_name):
        """Get country data from CSV by name - FIXED VERSION"""
        # Country name mapping to handle different naming conventions
        country_mapping = {
            "Democratic Republic of Congo": "DRC (Congo)",
            "South Africa": "South Africa", 
            "Mozambique": "Mozambique",
            "Namibia": "Namibia"
        }
        
        # Get the search name from mapping, or use original name
        search_name = country_mapping.get(country_name, country_name)
        
        for country in self.countries_csv:
            if country['CountryName'].lower() == search_name.lower():
                return country
        return None
    
    def get_production_stats(self, country_name=None, mineral_name=None, year=None):
        """Get production statistics with filtering options"""
        stats = []
        
        for stat in self.production_stats_csv:
            # Get country and mineral names
            country = self.get_country_by_id(stat['CountryID'])
            mineral = self.get_mineral_by_id(stat['MineralID'])
            
            if country and mineral:
                stat_data = {
                    'Year': stat['Year'],
                    'Country': country['CountryName'],
                    'Mineral': mineral['MineralName'],
                    'Production_tonnes': stat['Production_tonnes'],
                    'ExportValue_BillionUSD': stat['ExportValue_BillionUSD'],
                    'CountryID': stat['CountryID'],
                    'MineralID': stat['MineralID']
                }
                
                # Apply filters
                if country_name and country_name.lower() != country['CountryName'].lower():
                    continue
                if mineral_name and mineral_name.lower() != mineral['MineralName'].lower():
                    continue
                if year and stat['Year'] != year:
                    continue
                
                stats.append(stat_data)
        
        return stats
    
    def get_country_by_id(self, country_id):
        """Get country by ID from CSV data"""
        for country in self.countries_csv:
            if country['CountryID'] == country_id:
                return country
        return None
    
    def get_mineral_by_id(self, mineral_id):
        """Get mineral by ID from CSV data"""
        for mineral in self.minerals_csv:
            if mineral['MineralID'] == mineral_id:
                return mineral
        return None

# 3. PROJECT STRUCTURE SETUP
def setup_project_structure():
    """Create the complete project directory structure"""
    
    # Create main directories
    directories = [
        "data",
        "assets/flags",
        "screens"
    ]
    
    for directory in directories:
        if not os.path.exists(directory):
            os.makedirs(directory)
            print(f"✅ Created directory: {directory}")
        else:
            print(f"📁 Directory already exists: {directory}")
    
    # Create data files
    users_data = [
        {"username": "Owami9", "password": "2020", "role": "Administrator"},
        {"username": "Eric2", "password": "inv123", "role": "Investor"},
        {"username": "Faith1", "password": "res123", "role": "Researcher"}
    ]
    
    minerals_data = [
        {
            "id": 1,
            "name": "Cobalt",
            "description": "A hard, lustrous, silver-gray metal essential for rechargeable batteries in electric vehicles and electronics.",
            "uses": ["Rechargeable batteries", "Superalloys", "Catalysts", "Magnetic alloys"],
            "major_producers": ["Democratic Republic of Congo", "Russia", "Australia", "Canada"],
            "price_trend": [45000, 52000, 48000, 51000, 49000, 53000],
            "global_reserves": "7.1 million tonnes",
            "key_properties": ["High melting point", "Ferromagnetic", "Hardness"]
        },
        {
            "id": 2,
            "name": "Lithium",
            "description": "A soft, silver-white metal crucial for lithium-ion batteries in electric vehicles and energy storage.",
            "uses": ["Lithium-ion batteries", "Ceramics and glass", "Pharmaceuticals", "Polymers"],
            "major_producers": ["Australia", "Chile", "China", "Argentina"],
            "price_trend": [8500, 9200, 7800, 10500, 12000, 11000],
            "global_reserves": "22 million tonnes",
            "key_properties": ["Lightest metal", "High electrochemical potential", "Reactive"]
        },
        {
            "id": 3,
            "name": "Graphite",
            "description": "A crystalline form of carbon used in batteries and high-temperature lubricants.",
            "uses": ["Battery anodes", "Lubricants", "Refractories", "Pencils"],
            "major_producers": ["China", "Mozambique", "Brazil", "Canada"],
            "price_trend": [700, 750, 800, 780, 820, 800],
            "global_reserves": "800 million tonnes",
            "key_properties": ["Conductive", "High melting point", "Lubricating"]
        },
        {
            "id": 4,
            "name": "Manganese",
            "description": "A gray-white metal essential for steel production and batteries.",
            "uses": ["Steel production", "Batteries", "Aluminum alloys", "Fertilizers"],
            "major_producers": ["South Africa", "Australia", "Gabon", "Namibia"],
            "price_trend": [2000, 2100, 2200, 2150, 2250, 2200],
            "global_reserves": "1.5 billion tonnes",
            "key_properties": ["Hardening agent", "Alloying element", "Oxidizing agent"]
        }
    ]
    
    countries_data = [
        {
            "name": "Democratic Republic of Congo",
            "flag": "assets/flags/drc.png",
            "key_minerals": ["Cobalt", "Copper", "Diamonds", "Gold", "Coltan"],
            "production_stats": {
                "Cobalt": "120,000 t",
                "Copper": "1.8 Mt",
                "Diamonds": "12 million carats"
            },
            "gdp_growth": "6.2%",
            "mining_contribution": "28% of GDP",
            "key_projects": [
                {
                    "name": "Tenke Fungurume",
                    "mineral": "Cobalt/Copper",
                    "status": "Operational",
                    "operator": "China Molybdenum"
                }
            ]
        },
        {
            "name": "South Africa",
            "flag": "assets/flags/south_africa.png",
            "key_minerals": ["Platinum", "Manganese", "Chromium", "Gold", "Diamonds"],
            "production_stats": {
                "Manganese": "7.2 Mt",
                "Platinum": "130 t",
                "Chromium": "16.1 Mt",
                "Gold": "110 t"
            },
            "gdp_growth": "1.5%",
            "mining_contribution": "7.3% of GDP",
            "key_projects": [
                {
                    "name": "Moab Khotsong Mine",
                    "mineral": "Gold",
                    "status": "Operational",
                    "operator": "Harmony Gold"
                }
            ]
        },
        {
            "name": "Mozambique",
            "flag": "assets/flags/mozambique.png",
            "key_minerals": ["Graphite", "Coal", "Titanium", "Aluminum"],
            "production_stats": {
                "Graphite": "50,000 t",
                "Coal": "15 Mt",
                "Titanium": "500,000 t"
            },
            "gdp_growth": "4.5%",
            "mining_contribution": "20% of GDP",
            "key_projects": [
                {
                    "name": "Balama Graphite Project",
                    "mineral": "Graphite",
                    "status": "Operational",
                    "operator": "Syrah Resources"
                }
            ]
        },
        {
            "name": "Namibia",
            "flag": "assets/flags/namibia.png",
            "key_minerals": ["Manganese", "Uranium", "Diamonds", "Copper"],
            "production_stats": {
                "Manganese": "200,000 t",
                "Uranium": "3,500 t",
                "Diamonds": "1.5 million carats"
            },
            "gdp_growth": "3.8%",
            "mining_contribution": "20% of GDP",
            "key_projects": [
                {
                    "name": "Otjozondu Manganese Project",
                    "mineral": "Manganese",
                    "status": "Operational",
                    "operator": "Omegacorp"
                }
            ]
        }
    ]
    
    # Create JSON files
    files_to_create = {
        "data/users.json": users_data,
        "data/minerals.json": minerals_data,
        "data/countries.json": countries_data
    }
    
    for filepath, data in files_to_create.items():
        try:
            with open(filepath, 'w', encoding='utf-8') as file:
                json.dump(data, file, indent=2, ensure_ascii=False)
            print(f"✅ Created: {filepath}")
        except Exception as e:
            print(f"❌ Error creating {filepath}: {e}")
    
    print("\n🎉 Project structure setup completed!")
m
