# 1. DEPENDENCIES AND IMPORTS
!pip install tk folium matplotlib pillow pandas

import tkinter as tk
from tkinter import ttk, messagebox, scrolledtext
import json
import os
import webbrowser
from PIL import Image, ImageTk, ImageDraw
import matplotlib.pyplot as plt
from matplotlib.backends.backend_tkagg import FigureCanvasTkAgg
import pandas as pd
import csv
import folium
import tempfile
import threading
from folium import plugins
import numpy as np

# 2. ENHANCED DATA MANAGER WITH MINERAL LOCATIONS
class DataManager:
    def __init__(self, data_dir="data"):
        self.data_dir = data_dir
        self.ensure_data_directory()
        self.load_csv_data()
        self.load_mineral_locations()
    
    def ensure_data_directory(self):
        """Create data directory if it doesn't exist"""
        if not os.path.exists(self.data_dir):
            os.makedirs(self.data_dir)
    
    def load_csv_data(self):
        """Load and parse CSV data"""
        # Minerals data
        self.minerals_csv = [
            {
                "MineralID": 1,
                "MineralName": "Cobalt",
                "Description": "Used in batteries and alloys",
                "MarketPriceUSD_per_tonne": 52000
            },
            {
                "MineralID": 2,
                "MineralName": "Lithium",
                "Description": "Essential for EV batteries",
                "MarketPriceUSD_per_tonne": 70000
            },
            {
                "MineralID": 3,
                "MineralName": "Graphite",
                "Description": "Used in batteries and lubricants",
                "MarketPriceUSD_per_tonne": 800
            },
            {
                "MineralID": 4,
                "MineralName": "Manganese",
                "Description": "Used in steel production",
                "MarketPriceUSD_per_tonne": 2200
            }
        ]
        
        # Production stats data
        self.production_stats_csv = [
            {
                "StatID": 1, "Year": 2023, "CountryID": 1, "MineralID": 1,
                "Production_tonnes": 100000, "ExportValue_BillionUSD": 5.2
            },
            {
                "StatID": 2, "Year": 2023, "CountryID": 2, "MineralID": 2,
                "Production_tonnes": 120000, "ExportValue_BillionUSD": 8.4
            },
            {
                "StatID": 3, "Year": 2023, "CountryID": 3, "MineralID": 3,
                "Production_tonnes": 50000, "ExportValue_BillionUSD": 0.9
            },
            {
                "StatID": 4, "Year": 2023, "CountryID": 4, "MineralID": 4,
                "Production_tonnes": 200000, "ExportValue_BillionUSD": 2.7
            },
            {
                "StatID": 5, "Year": 2024, "CountryID": 1, "MineralID": 1,
                "Production_tonnes": 110000, "ExportValue_BillionUSD": 6.0
            },
            {
                "StatID": 6, "Year": 2024, "CountryID": 2, "MineralID": 2,
                "Production_tonnes": 130000, "ExportValue_BillionUSD": 9.1
            }
        ]
        
        # Countries data
        self.countries_csv = [
            {
                "CountryID": 1,
                "CountryName": "DRC (Congo)",
                "GDP_BillionUSD": 55,
                "MiningRevenue_BillionUSD": 12,
                "KeyProjects": "Cobalt expansion in Kolwezi"
            },
            {
                "CountryID": 2,
                "CountryName": "South Africa",
                "GDP_BillionUSD": 350,
                "MiningRevenue_BillionUSD": 25,
                "KeyProjects": "Bushveld Lithium Project"
            },
            {
                "CountryID": 3,
                "CountryName": "Mozambique",
                "GDP_BillionUSD": 20,
                "MiningRevenue_BillionUSD": 4,
                "KeyProjects": "Balama Graphite Project"
            },
            {
                "CountryID": 4,
                "CountryName": "Namibia",
                "GDP_BillionUSD": 15,
                "MiningRevenue_BillionUSD": 3,
                "KeyProjects": "Otjozondu Manganese Project"
            }
        ]
    
    def load_mineral_locations(self):
        """Load mineral mining locations with coordinates"""
        self.mineral_locations = [
            {
                "name": "Tenke Fungurume Mine",
                "mineral": "Cobalt",
                "country": "Democratic Republic of Congo",
                "latitude": -10.5833,
                "longitude": 26.4167,
                "type": "Open Pit",
                "operator": "China Molybdenum",
                "production": "20,000 tonnes/year",
                "reserves": "3.2 million tonnes",
                "status": "Operational",
                "investment": "2.5 Billion USD"
            },
            {
                "name": "Kolwezi Cobalt Mines",
                "mineral": "Cobalt",
                "country": "Democratic Republic of Congo",
                "latitude": -10.7167,
                "longitude": 25.4667,
                "type": "Underground & Open Pit",
                "operator": "Multiple Operators",
                "production": "45,000 tonnes/year",
                "reserves": "5.8 million tonnes",
                "status": "Operational",
                "investment": "1.8 Billion USD"
            },
            {
                "name": "Bushveld Lithium Project",
                "mineral": "Lithium",
                "country": "South Africa",
                "latitude": -25.0,
                "longitude": 28.5,
                "type": "Hard Rock",
                "operator": "African Lithium",
                "production": "15,000 tonnes/year",
                "reserves": "1.5 million tonnes",
                "status": "Development",
                "investment": "500 Million USD"
            },
            {
                "name": "Balama Graphite Project",
                "mineral": "Graphite",
                "country": "Mozambique",
                "latitude": -13.1833,
                "longitude": 38.5833,
                "type": "Open Pit",
                "operator": "Syrah Resources",
                "production": "50,000 tonnes/year",
                "reserves": "118 million tonnes",
                "status": "Operational",
                "investment": "200 Million USD"
            },
            {
                "name": "Otjozondu Manganese Mine",
                "mineral": "Manganese",
                "country": "Namibia",
                "latitude": -21.4333,
                "longitude": 16.9667,
                "type": "Open Pit",
                "operator": "Omegacorp",
                "production": "200,000 tonnes/year",
                "reserves": "15 million tonnes",
                "status": "Operational",
                "investment": "150 Million USD"
            },
            {
                "name": "Kalahari Manganese Field",
                "mineral": "Manganese",
                "country": "South Africa",
                "latitude": -27.5,
                "longitude": 22.5,
                "type": "Underground",
                "operator": "Assmang",
                "production": "3.2 million tonnes/year",
                "reserves": "450 million tonnes",
                "status": "Operational",
                "investment": "1.2 Billion USD"
            },
            {
                "name": "Zulu Lithium Project",
                "mineral": "Lithium",
                "country": "Zimbabwe",
                "latitude": -20.0833,
                "longitude": 30.8333,
                "type": "Pegmatite",
                "operator": "Premier African Minerals",
                "production": "Planned: 50,000 tonnes/year",
                "reserves": "20.1 million tonnes",
                "status": "Development",
                "investment": "300 Million USD"
            },
            {
                "name": "Goulamina Lithium Project",
                "mineral": "Lithium",
                "country": "Mali",
                "latitude": 11.1667,
                "longitude": -7.2500,
                "type": "Spodumene",
                "operator": "Leo Lithium",
                "production": "Planned: 500,000 tonnes/year",
                "reserves": "31.2 million tonnes",
                "status": "Development",
                "investment": "400 Million USD"
            },
            {
                "name": "Kamoa-Kakula Copper Complex",
                "mineral": "Cobalt",
                "country": "Democratic Republic of Congo",
                "latitude": -10.9333,
                "longitude": 25.6000,
                "type": "Underground",
                "operator": "Ivanhoe Mines",
                "production": "15,000 tonnes/year (Cobalt by-product)",
                "reserves": "2.5 million tonnes",
                "status": "Operational",
                "investment": "3.5 Billion USD"
            },
            {
                "name": "Rhyolite Ridge Lithium Project",
                "mineral": "Lithium",
                "country": "Namibia",
                "latitude": -22.5000,
                "longitude": 15.8000,
                "type": "Sedimentary",
                "operator": "Ioneer Ltd",
                "production": "Planned: 20,000 tonnes/year",
                "reserves": "18.5 million tonnes",
                "status": "Development",
                "investment": "600 Million USD"
            }
        ]
        
        # Mineral colors for mapping
        self.mineral_colors = {
            "Cobalt": "red",
            "Lithium": "blue", 
            "Graphite": "green",
            "Manganese": "purple"
        }
        
        # Mineral icons
        self.mineral_icons = {
            "Cobalt": "info-sign",
            "Lithium": "star",
            "Graphite": "certificate",
            "Manganese": "asterisk"
        }
    
    def get_mineral_locations(self, mineral_name=None, country_name=None):
        """Get mineral locations with optional filtering"""
        locations = self.mineral_locations
        
        if mineral_name and mineral_name != "All Minerals":
            locations = [loc for loc in locations if loc['mineral'].lower() == mineral_name.lower()]
        
        if country_name and country_name != "All Countries":
            locations = [loc for loc in locations if loc['country'].lower() == country_name.lower()]
        
        return locations
    
    def get_minerals_by_country(self, country_name):
        """Get all minerals found in a specific country"""
        locations = self.get_mineral_locations(country_name=country_name)
        minerals = set(loc['mineral'] for loc in locations)
        return list(minerals)
    
    def get_mineral_color(self, mineral_name):
        """Get color for a specific mineral"""
        return self.mineral_colors.get(mineral_name, "gray")
    
    def get_mineral_icon(self, mineral_name):
        """Get icon for a specific mineral"""
        return self.mineral_icons.get(mineral_name, "info-sign")
    
    def load_data(self, filename):
        """Load data from a JSON file"""
        filepath = os.path.join(self.data_dir, filename)
        try:
            with open(filepath, 'r', encoding='utf-8') as file:
                return json.load(file)
        except FileNotFoundError:
            print(f"File {filepath} not found. Returning empty list.")
            return []
        except json.JSONDecodeError:
            print(f"Error decoding JSON from {filepath}. Returning empty list.")
            return []
    
    def save_data(self, filename, data):
        """Save data to a JSON file"""
        filepath = os.path.join(self.data_dir, filename)
        try:
            with open(filepath, 'w', encoding='utf-8') as file:
                json.dump(data, file, indent=2, ensure_ascii=False)
            return True
        except Exception as e:
            print(f"Error saving to {filepath}: {e}")
            return False
    
    def get_user_by_credentials(self, username, password):
        """Find user by username and password"""
        users = self.load_data("users.json")
        for user in users:
            if user['username'] == username and user['password'] == password:
                return user
        return None
    
    def get_minerals(self):
        """Get all minerals - combines JSON and CSV data"""
        json_minerals = self.load_data("minerals.json")
        # Enhance JSON minerals with CSV data
        for mineral in json_minerals:
            csv_mineral = self.get_mineral_from_csv(mineral['name'])
            if csv_mineral:
                mineral['market_price'] = csv_mineral['MarketPriceUSD_per_tonne']
                mineral['description'] = csv_mineral['Description']
        return json_minerals
    
    def get_mineral_from_csv(self, mineral_name):
        """Get mineral data from CSV by name"""
        for mineral in self.minerals_csv:
            if mineral['MineralName'].lower() == mineral_name.lower():
                return mineral
        return None
    
    def get_countries(self):
        """Get all countries - FIXED VERSION"""
        # Load countries from JSON file
        json_countries = self.load_data("countries.json")
        
        # If JSON file is empty or doesn't exist, use the data from setup
        if not json_countries:
            json_countries = [
                {
                    "name": "Democratic Republic of Congo",
                    "flag": "assets/flags/drc.png",
                    "key_minerals": ["Cobalt", "Copper", "Diamonds", "Gold", "Coltan"],
                    "production_stats": {
                        "Cobalt": "120,000 t",
                        "Copper": "1.8 Mt",
                        "Diamonds": "12 million carats"
                    },
                    "gdp_growth": "6.2%",
                    "mining_contribution": "28% of GDP",
                    "key_projects": [
                        {
                            "name": "Tenke Fungurume",
                            "mineral": "Cobalt/Copper",
                            "status": "Operational",
                            "operator": "China Molybdenum"
                        }
                    ]
                },
                {
                    "name": "South Africa",
                    "flag": "assets/flags/south_africa.png",
                    "key_minerals": ["Platinum", "Manganese", "Chromium", "Gold", "Diamonds"],
                    "production_stats": {
                        "Manganese": "7.2 Mt",
                        "Platinum": "130 t",
                        "Chromium": "16.1 Mt",
                        "Gold": "110 t"
                    },
                    "gdp_growth": "1.5%",
                    "mining_contribution": "7.3% of GDP",
                    "key_projects": [
                        {
                            "name": "Moab Khotsong Mine",
                            "mineral": "Gold",
                            "status": "Operational",
                            "operator": "Harmony Gold"
                        }
                    ]
                },
                {
                    "name": "Mozambique",
                    "flag": "assets/flags/mozambique.png",
                    "key_minerals": ["Graphite", "Coal", "Titanium", "Aluminum"],
                    "production_stats": {
                        "Graphite": "50,000 t",
                        "Coal": "15 Mt",
                        "Titanium": "500,000 t"
                    },
                    "gdp_growth": "4.5%",
                    "mining_contribution": "20% of GDP",
                    "key_projects": [
                        {
                            "name": "Balama Graphite Project",
                            "mineral": "Graphite",
                            "status": "Operational",
                            "operator": "Syrah Resources"
                        }
                    ]
                },
                {
                    "name": "Namibia",
                    "flag": "assets/flags/namibia.png",
                    "key_minerals": ["Manganese", "Uranium", "Diamonds", "Copper"],
                    "production_stats": {
                        "Manganese": "200,000 t",
                        "Uranium": "3,500 t",
                        "Diamonds": "1.5 million carats"
                    },
                    "gdp_growth": "3.8%",
                    "mining_contribution": "20% of GDP",
                    "key_projects": [
                        {
                            "name": "Otjozondu Manganese Project",
                            "mineral": "Manganese",
                            "status": "Operational",
                            "operator": "Omegacorp"
                        }
                    ]
                }
            ]
        
        # Enhance JSON countries with CSV data - FIXED VERSION
        for country in json_countries:
            csv_country = self.get_country_from_csv(country['name'])
            if csv_country:
                # Add GDP and mining revenue from CSV
                country['gdp'] = csv_country['GDP_BillionUSD']
                country['mining_revenue'] = csv_country['MiningRevenue_BillionUSD']
                # Don't overwrite existing key_projects, just add CSV project if needed
                if 'key_projects' not in country or not country['key_projects']:
                    country['key_projects'] = [{"name": csv_country['KeyProjects'], "mineral": "Various", "status": "Operational", "operator": "Various"}]
        
        return json_countries
    
    def get_country_from_csv(self, country_name):
        """Get country data from CSV by name - FIXED VERSION"""
        # Country name mapping to handle different naming conventions
        country_mapping = {
            "Democratic Republic of Congo": "DRC (Congo)",
            "South Africa": "South Africa", 
            "Mozambique": "Mozambique",
            "Namibia": "Namibia"
        }
        
        # Get the search name from mapping, or use original name
        search_name = country_mapping.get(country_name, country_name)
        
        for country in self.countries_csv:
            if country['CountryName'].lower() == search_name.lower():
                return country
        return None
    
    def get_production_stats(self, country_name=None, mineral_name=None, year=None):
        """Get production statistics with filtering options"""
        stats = []
        
        for stat in self.production_stats_csv:
            # Get country and mineral names
            country = self.get_country_by_id(stat['CountryID'])
            mineral = self.get_mineral_by_id(stat['MineralID'])
            
            if country and mineral:
                stat_data = {
                    'Year': stat['Year'],
                    'Country': country['CountryName'],
                    'Mineral': mineral['MineralName'],
                    'Production_tonnes': stat['Production_tonnes'],
                    'ExportValue_BillionUSD': stat['ExportValue_BillionUSD'],
                    'CountryID': stat['CountryID'],
                    'MineralID': stat['MineralID']
                }
                
                # Apply filters
                if country_name and country_name.lower() != country['CountryName'].lower():
                    continue
                if mineral_name and mineral_name.lower() != mineral['MineralName'].lower():
                    continue
                if year and stat['Year'] != year:
                    continue
                
                stats.append(stat_data)
        
        return stats
    
    def get_country_by_id(self, country_id):
        """Get country by ID from CSV data"""
        for country in self.countries_csv:
            if country['CountryID'] == country_id:
                return country
        return None
    
    def get_mineral_by_id(self, mineral_id):
        """Get mineral by ID from CSV data"""
        for mineral in self.minerals_csv:
            if mineral['MineralID'] == mineral_id:
                return mineral
        return None

# 3. PROJECT STRUCTURE SETUP
def setup_project_structure():
    """Create the complete project directory structure"""
    
    # Create main directories
    directories = [
        "data",
        "assets/flags",
        "screens"
    ]
    
    for directory in directories:
        if not os.path.exists(directory):
            os.makedirs(directory)
            print(f"✅ Created directory: {directory}")
        else:
            print(f"📁 Directory already exists: {directory}")
    
    # Create data files
    users_data = [
        {"username": "Owami9", "password": "2020", "role": "Administrator"},
        {"username": "Eric2", "password": "inv123", "role": "Investor"},
        {"username": "Faith1", "password": "res123", "role": "Researcher"}
    ]
    
    minerals_data = [
        {
            "id": 1,
            "name": "Cobalt",
            "description": "A hard, lustrous, silver-gray metal essential for rechargeable batteries in electric vehicles and electronics.",
            "uses": ["Rechargeable batteries", "Superalloys", "Catalysts", "Magnetic alloys"],
            "major_producers": ["Democratic Republic of Congo", "Russia", "Australia", "Canada"],
            "price_trend": [45000, 52000, 48000, 51000, 49000, 53000],
            "global_reserves": "7.1 million tonnes",
            "key_properties": ["High melting point", "Ferromagnetic", "Hardness"]
        },
        {
            "id": 2,
            "name": "Lithium",
            "description": "A soft, silver-white metal crucial for lithium-ion batteries in electric vehicles and energy storage.",
            "uses": ["Lithium-ion batteries", "Ceramics and glass", "Pharmaceuticals", "Polymers"],
            "major_producers": ["Australia", "Chile", "China", "Argentina"],
            "price_trend": [8500, 9200, 7800, 10500, 12000, 11000],
            "global_reserves": "22 million tonnes",
            "key_properties": ["Lightest metal", "High electrochemical potential", "Reactive"]
        },
        {
            "id": 3,
            "name": "Graphite",
            "description": "A crystalline form of carbon used in batteries and high-temperature lubricants.",
            "uses": ["Battery anodes", "Lubricants", "Refractories", "Pencils"],
            "major_producers": ["China", "Mozambique", "Brazil", "Canada"],
            "price_trend": [700, 750, 800, 780, 820, 800],
            "global_reserves": "800 million tonnes",
            "key_properties": ["Conductive", "High melting point", "Lubricating"]
        },
        {
            "id": 4,
            "name": "Manganese",
            "description": "A gray-white metal essential for steel production and batteries.",
            "uses": ["Steel production", "Batteries", "Aluminum alloys", "Fertilizers"],
            "major_producers": ["South Africa", "Australia", "Gabon", "Namibia"],
            "price_trend": [2000, 2100, 2200, 2150, 2250, 2200],
            "global_reserves": "1.5 billion tonnes",
            "key_properties": ["Hardening agent", "Alloying element", "Oxidizing agent"]
        }
    ]
    
    countries_data = [
        {
            "name": "Democratic Republic of Congo",
            "flag": "assets/flags/drc.png",
            "key_minerals": ["Cobalt", "Copper", "Diamonds", "Gold", "Coltan"],
            "production_stats": {
                "Cobalt": "120,000 t",
                "Copper": "1.8 Mt",
                "Diamonds": "12 million carats"
            },
            "gdp_growth": "6.2%",
            "mining_contribution": "28% of GDP",
            "key_projects": [
                {
                    "name": "Tenke Fungurume",
                    "mineral": "Cobalt/Copper",
                    "status": "Operational",
                    "operator": "China Molybdenum"
                }
            ]
        },
        {
            "name": "South Africa",
            "flag": "assets/flags/south_africa.png",
            "key_minerals": ["Platinum", "Manganese", "Chromium", "Gold", "Diamonds"],
            "production_stats": {
                "Manganese": "7.2 Mt",
                "Platinum": "130 t",
                "Chromium": "16.1 Mt",
                "Gold": "110 t"
            },
            "gdp_growth": "1.5%",
            "mining_contribution": "7.3% of GDP",
            "key_projects": [
                {
                    "name": "Moab Khotsong Mine",
                    "mineral": "Gold",
                    "status": "Operational",
                    "operator": "Harmony Gold"
                }
            ]
        },
        {
            "name": "Mozambique",
            "flag": "assets/flags/mozambique.png",
            "key_minerals": ["Graphite", "Coal", "Titanium", "Aluminum"],
            "production_stats": {
                "Graphite": "50,000 t",
                "Coal": "15 Mt",
                "Titanium": "500,000 t"
            },
            "gdp_growth": "4.5%",
            "mining_contribution": "20% of GDP",
            "key_projects": [
                {
                    "name": "Balama Graphite Project",
                    "mineral": "Graphite",
                    "status": "Operational",
                    "operator": "Syrah Resources"
                }
            ]
        },
        {
            "name": "Namibia",
            "flag": "assets/flags/namibia.png",
            "key_minerals": ["Manganese", "Uranium", "Diamonds", "Copper"],
            "production_stats": {
                "Manganese": "200,000 t",
                "Uranium": "3,500 t",
                "Diamonds": "1.5 million carats"
            },
            "gdp_growth": "3.8%",
            "mining_contribution": "20% of GDP",
            "key_projects": [
                {
                    "name": "Otjozondu Manganese Project",
                    "mineral": "Manganese",
                    "status": "Operational",
                    "operator": "Omegacorp"
                }
            ]
        }
    ]
    
    # Create JSON files
    files_to_create = {
        "data/users.json": users_data,
        "data/minerals.json": minerals_data,
        "data/countries.json": countries_data
    }
    
    for filepath, data in files_to_create.items():
        try:
            with open(filepath, 'w', encoding='utf-8') as file:
                json.dump(data, file, indent=2, ensure_ascii=False)
            print(f"✅ Created: {filepath}")
        except Exception as e:
            print(f"❌ Error creating {filepath}: {e}")
    
    print("\n🎉 Project structure setup completed!")
m
# 4. MAP GENERATOR CLASS
class MapGenerator:
    def _init_(self, data_manager):
        self.data_manager = data_manager
        self.current_map_file = None
    
    def create_mineral_map(self, mineral_name=None, country_name=None):
        """Create an interactive folium map with mineral locations"""
        # Create a map centered on Africa
        mineral_map = folium.Map(
            location=[-8.7832, 34.5085],  # Center on Africa
            zoom_start=4,
            tiles='OpenStreetMap'
        )
        
        # Add a title
        title_html = '''
                     <h3 align="center" style="font-size:20px"><b>African Critical Minerals Map</b></h3>
                     '''
        mineral_map.get_root().html.add_child(folium.Element(title_html))
        
        # Get filtered locations
        locations = self.data_manager.get_mineral_locations(mineral_name, country_name)
        
        # Add mineral locations to the map
        for location in locations:
            self.add_mineral_marker(mineral_map, location)
        
        # Add layer control
        folium.LayerControl().add_to(mineral_map)
        
        # Add fullscreen button
        plugins.Fullscreen().add_to(mineral_map)
        
        # Add measure control
        plugins.MeasureControl().add_to(mineral_map)
        
        # Save map to temporary file
        self.current_map_file = tempfile.NamedTemporaryFile(delete=False, suffix='.html')
        mineral_map.save(self.current_map_file.name)
        
        return self.current_map_file.name
    
    def add_mineral_marker(self, mineral_map, location):
        """Add a mineral location marker to the map"""
        # Get color and icon based on mineral
        color = self.data_manager.get_mineral_color(location['mineral'])
        icon = self.data_manager.get_mineral_icon(location['mineral'])
        
        # Create popup content
        popup_content = f"""
        <div style="width: 250px;">
            <h4>{location['name']}</h4>
            <hr>
            <p><b>Mineral:</b> {location['mineral']}</p>
            <p><b>Country:</b> {location['country']}</p>
            <p><b>Type:</b> {location['type']}</p>
            <p><b>Operator:</b> {location['operator']}</p>
            <p><b>Production:</b> {location['production']}</p>
            <p><b>Reserves:</b> {location['reserves']}</p>
            <p><b>Status:</b> {location['status']}</p>
            <p><b>Investment:</b> {location['investment']}</p>
            <p><b>Coordinates:</b> {location['latitude']:.4f}, {location['longitude']:.4f}</p>
        </div>
        """
        
        # Create marker with custom icon
        folium.Marker(
            location=[location['latitude'], location['longitude']],
            popup=folium.Popup(popup_content, max_width=300),
            tooltip=f"{location['name']} ({location['mineral']})",
            icon=folium.Icon(
                color=color,
                icon=icon,
                prefix='glyphicon'
            )
        ).add_to(mineral_map)
        
        # Add circle marker for additional visibility
        folium.CircleMarker(
            location=[location['latitude'], location['longitude']],
            radius=8,
            popup=location['name'],
            color=color,
            fill=True,
            opacity=0.7,
            fillOpacity=0.2
        ).add_to(mineral_map)
    
    def cleanup(self):
        """Clean up temporary map files"""
        if self.current_map_file and os.path.exists(self.current_map_file.name):
            try:
                os.unlink(self.current_map_file.name)
            except:
                pass

# 5. MAIN APPLICATION CLASS WITH REFINED COLOR SCHEME
class CriticalMineralsApp:
    def _init_(self):
        self.root = tk.Tk()
        self.root.title("African Critical Minerals App")
        self.root.geometry("1200x800")
        
        # Refined color scheme
        self.setup_refined_colors()
        
        # Initialize data manager and map generator
        self.data_manager = DataManager()
        self.map_generator = MapGenerator(self.data_manager)
        self.current_user = None
        
        # Create notebook for screen management
        self.notebook = ttk.Notebook(self.root)
        self.notebook.pack(fill='both', expand=True, padx=10, pady=10)
        
        # Create frames for different screens
        self.login_frame = ttk.Frame(self.notebook)
        self.dashboard_frame = ttk.Frame(self.notebook)
        self.minerals_frame = ttk.Frame(self.notebook)
        self.countries_frame = ttk.Frame(self.notebook)
        self.map_frame = ttk.Frame(self.notebook)
        self.mineral_map_frame = ttk.Frame(self.notebook)
        self.charts_frame = ttk.Frame(self.notebook)
        self.analytics_frame = ttk.Frame(self.notebook)
        self.admin_frame = ttk.Frame(self.notebook)
        
        # Add frames to notebook
        self.notebook.add(self.login_frame, text="Login")
        self.notebook.add(self.dashboard_frame, text="Dashboard")
        self.notebook.add(self.minerals_frame, text="Minerals")
        self.notebook.add(self.countries_frame, text="Countries")
        self.notebook.add(self.map_frame, text="Country Map")
        self.notebook.add(self.mineral_map_frame, text="🌍 Mineral Map")
        self.notebook.add(self.charts_frame, text="📊 Charts")
        self.notebook.add(self.analytics_frame, text="📈 Analytics")
        self.notebook.add(self.admin_frame, text="👑 Admin Panel")
        
        # Hide all tabs except login initially
        for i in range(1, 9):
            self.notebook.hide(i)
        
        # Setup all screens
        self.setup_login_screen()
        self.setup_dashboard_screen()
        self.setup_minerals_screen()
        self.setup_countries_screen()
        self.setup_map_screen()
        self.setup_mineral_map_screen()
        self.setup_charts_screen()
        self.setup_analytics_screen()
        self.setup_admin_panel()
        
        # Configure styles
        self.configure_styles()
        
        # Bind notebook change event
        self.notebook.bind("<<NotebookTabChanged>>", self.on_tab_changed)
        
        # Cleanup on exit
        self.root.protocol("WM_DELETE_WINDOW", self.on_closing)
    
    def setup_refined_colors(self):
        """Setup refined color scheme as requested"""
        self.colors = {
            # Pure bright white background
            'bg_primary': '#FFFFFF',
            'bg_secondary': '#F8F9FA',
            
            # Light greenish-blueish color for buttons
            'button_primary': '#20B2AA',  # Light Sea Green
            'button_hover': '#48D1CC',    # Medium Turquoise
            'button_active': '#008B8B',   # Dark Cyan
            
            # Text colors
            'text_primary': '#000000',    # Pure black
            'text_secondary': '#333333',  # Dark gray
            'text_light': '#666666',      # Medium gray
            'text_white': '#FFFFFF',      # Pure white
            
            # Mineral colors (kept for charts)
            'cobalt': '#DC2626',
            'lithium': '#2563EB',
            'graphite': '#059669',
            'manganese': '#7C3AED',
            
            # Chart colors
            'chart_blue': '#3B82F6',
            'chart_red': '#EF4444',
            'chart_green': '#10B981',
            'chart_yellow': '#F59E0B',
            'chart_purple': '#8B5CF6'
        }
    
    def configure_styles(self):
        """Configure styles for all widgets"""
        # Configure ttk styles
        self.style = ttk.Style()
        self.style.configure('TFrame', background=self.colors['bg_primary'])
        self.style.configure('TLabel', background=self.colors['bg_primary'], foreground=self.colors['text_primary'])
        self.style.configure('TButton', background=self.colors['button_primary'], foreground=self.colors['text_white'])
        self.style.configure('TLabelframe', background=self.colors['bg_primary'])
        self.style.configure('TLabelframe.Label', background=self.colors['bg_primary'], foreground=self.colors['text_primary'])
        
        # Make all frames use bright white background
        for frame in [self.login_frame, self.dashboard_frame, self.minerals_frame, 
                      self.countries_frame, self.map_frame, self.mineral_map_frame,
                      self.charts_frame, self.analytics_frame, self.admin_frame]:
            try:
                frame.configure(style='TFrame')
            except:
                pass
    
    def on_closing(self):
        """Clean up when application closes"""
        self.map_generator.cleanup()
        self.root.destroy()
    
    def show_toast(self, message):
        """Show a message box as toast replacement"""
        messagebox.showinfo("Info", message)
    
    def on_tab_changed(self, event):
        """Handle tab changes"""
        current_tab = self.notebook.index(self.notebook.select())
        if current_tab == 2:  # Minerals tab
            self.load_minerals()
        elif current_tab == 3:  # Countries tab
            self.load_countries()
        elif current_tab == 5:  # Mineral Map tab
            self.load_mineral_map()
        elif current_tab == 6:  # Charts tab
            self.load_charts()
        elif current_tab == 7:  # Analytics tab
            self.load_analytics()
        elif current_tab == 8:  # Admin Panel tab
            self.load_admin_panel()
    
    # LOGIN SCREEN
    def setup_login_screen(self):
        # Pure white background
        self.login_frame.configure(style='TFrame')
        
        title_label = tk.Label(self.login_frame, 
                              text="African Critical Minerals App", 
                              font=("Arial", 18, "bold"),
                              bg=self.colors['bg_primary'],
                              fg=self.colors['text_primary'])
        title_label.pack(pady=40)
        
        # Login form container
        form_frame = tk.Frame(self.login_frame, bg=self.colors['bg_primary'])
        form_frame.pack(pady=20)
        
        # Username
        tk.Label(form_frame, text="Username:", 
                font=("Arial", 11, "bold"),
                bg=self.colors['bg_primary'],
                fg=self.colors['text_primary']).pack(pady=8)
        self.username_entry = tk.Entry(form_frame, width=25, font=("Arial", 11))
        self.username_entry.pack(pady=8)
        
        # Password
        tk.Label(form_frame, text="Password:", 
                font=("Arial", 11, "bold"),
                bg=self.colors['bg_primary'],
                fg=self.colors['text_primary']).pack(pady=8)
        self.password_entry = tk.Entry(form_frame, width=25, show="*", font=("Arial", 11))
        self.password_entry.pack(pady=8)
        
        # Login button with light greenish-blue color
        login_btn = tk.Button(form_frame, 
                             text="🔐 Login", 
                             command=self.try_login,
                             font=("Arial", 12, "bold"),
                             bg=self.colors['button_primary'],
                             fg=self.colors['text_white'],
                             activebackground=self.colors['button_active'],
                             activeforeground=self.colors['text_white'],
                             padx=30,
                             pady=12,
                             relief='raised',
                             bd=2,
                             cursor='hand2')
        login_btn.pack(pady=25)
        
        self.root.bind('<Return>', lambda event: self.try_login())
    
    def try_login(self):
        username = self.username_entry.get()
        password = self.password_entry.get()
        
        user = self.data_manager.get_user_by_credentials(username, password)
        
        if user:
            self.current_user = user
            messagebox.showinfo("Login Successful", f"Welcome, {user['role']}!")
            
            # Hide Login tab and show all other tabs
            self.notebook.hide(0)
            
            # Show all other tabs
            for i in range(1, 9):
                self.notebook.add(self.notebook.winfo_children()[i], text=self.notebook.tab(i, "text"))
            
            self.notebook.select(1)
            self.update_dashboard()
        else:
            messagebox.showerror("Login Failed", "Invalid username or password")
    
    # DASHBOARD SCREEN
    def setup_dashboard_screen(self):
        self.dashboard_frame.configure(style='TFrame')
        
        # Welcome label in black
        self.welcome_label = tk.Label(self.dashboard_frame, 
                                     text="Welcome to Dashboard", 
                                     font=("Arial", 18, "bold"),
                                     bg=self.colors['bg_primary'],
                                     fg=self.colors['text_primary'])
        self.welcome_label.pack(pady=30)
        
        buttons_frame = tk.Frame(self.dashboard_frame, bg=self.colors['bg_primary'])
        buttons_frame.pack(pady=20)
        
        # All buttons use the light greenish-blue color
        button_configs = [
            ("👑 Admin Panel", lambda: self.notebook.select(8)),
            ("💎 View Minerals", lambda: self.notebook.select(2)),
            ("🇦🇴 View Countries", lambda: self.notebook.select(3)),
            ("🗺 Country Map", lambda: self.notebook.select(4)),
            ("🌍 Interactive Mineral Map", lambda: self.notebook.select(5)),
            ("📊 View Charts", lambda: self.notebook.select(6)),
            ("📈 View Analytics", lambda: self.notebook.select(7))
        ]
        
        for text, command in button_configs:
            btn = tk.Button(buttons_frame, 
                           text=text,
                           command=command,
                           font=("Arial", 11, "bold"),
                           bg=self.colors['button_primary'],
                           fg=self.colors['text_white'],
                           activebackground=self.colors['button_active'],
                           activeforeground=self.colors['text_white'],
                           relief='raised',
                           bd=2,
                           padx=20,
                           pady=12,
                           width=25,
                           cursor='hand2')
            btn.pack(pady=8, fill='x')
            
            # Add hover effect
            def on_enter(e, btn=btn):
                btn['background'] = self.colors['button_hover']
            
            def on_leave(e, btn=btn):
                btn['background'] = self.colors['button_primary']
            
            btn.bind("<Enter>", on_enter)
            btn.bind("<Leave>", on_leave)
        
        # Logout button also uses the same color
        logout_btn = tk.Button(self.dashboard_frame, 
                              text="🚪 Logout", 
                              command=self.logout,
                              font=("Arial", 11, "bold"),
                              bg=self.colors['button_primary'],
                              fg=self.colors['text_white'],
                              activebackground=self.colors['button_active'],
                              activeforeground=self.colors['text_white'],
                              padx=20,
                              pady=10,
                              cursor='hand2')
        logout_btn.pack(pady=20)
    
    def update_dashboard(self):
        if self.current_user:
            user_role = self.current_user['role']
            self.welcome_label.config(
                text=f"Welcome, {self.current_user['username']}! Role: {user_role}"
            )
    
    def logout(self):
        self.current_user = None
        # Hide all tabs except login
        for i in range(1, 9):
            self.notebook.hide(i)
        # Show login tab again
        self.notebook.add(self.login_frame, text="Login")
        self.notebook.select(0)
        self.username_entry.delete(0, tk.END)
        self.password_entry.delete(0, tk.END)
