# 1. DEPENDENCIES AND IMPORTS
!pip install tk folium matplotlib pillow pandas

import tkinter as tk
from tkinter import ttk, messagebox, scrolledtext
import json
import os
import webbrowser
from PIL import Image, ImageTk, ImageDraw
import matplotlib.pyplot as plt
from matplotlib.backends.backend_tkagg import FigureCanvasTkAgg
import pandas as pd
import csv
import folium
import tempfile
import threading
from folium import plugins
import numpy as np

# 2. ENHANCED DATA MANAGER WITH MINERAL LOCATIONS
class DataManager:
    def __init__(self, data_dir="data"):
        self.data_dir = data_dir
        self.ensure_data_directory()
        self.load_csv_data()
        self.load_mineral_locations()
    
    def ensure_data_directory(self):
        """Creating data directory if it doesn't exist"""
        if not os.path.exists(self.data_dir):
            os.makedirs(self.data_dir)
    
    def load_csv_data(self):
        """Load and parse CSV data"""
        # Minerals data
        self.minerals_csv = [
            {
                "MineralID": 1,
                "MineralName": "Cobalt",
                "Description": "Used in batteries and alloys",
                "MarketPriceUSD_per_tonne": 52000
            },
            {
                "MineralID": 2,
                "MineralName": "Lithium",
                "Description": "Essential for EV batteries",
                "MarketPriceUSD_per_tonne": 70000
            },
            {
                "MineralID": 3,
                "MineralName": "Graphite",
                "Description": "Used in batteries and lubricants",
                "MarketPriceUSD_per_tonne": 800
            },
            {
                "MineralID": 4,
                "MineralName": "Manganese",
                "Description": "Used in steel production",
                "MarketPriceUSD_per_tonne": 2200
            }
        ]
        
        # Production stats data
        self.production_stats_csv = [
            {
                "StatID": 1, "Year": 2023, "CountryID": 1, "MineralID": 1,
                "Production_tonnes": 100000, "ExportValue_BillionUSD": 5.2
            },
            {
                "StatID": 2, "Year": 2023, "CountryID": 2, "MineralID": 2,
                "Production_tonnes": 120000, "ExportValue_BillionUSD": 8.4
            },
            {
                "StatID": 3, "Year": 2023, "CountryID": 3, "MineralID": 3,
                "Production_tonnes": 50000, "ExportValue_BillionUSD": 0.9
            },
            {
                "StatID": 4, "Year": 2023, "CountryID": 4, "MineralID": 4,
                "Production_tonnes": 200000, "ExportValue_BillionUSD": 2.7
            },
            {
                "StatID": 5, "Year": 2024, "CountryID": 1, "MineralID": 1,
                "Production_tonnes": 110000, "ExportValue_BillionUSD": 6.0
            },
            {
                "StatID": 6, "Year": 2024, "CountryID": 2, "MineralID": 2,
                "Production_tonnes": 130000, "ExportValue_BillionUSD": 9.1
            }
        ]
        
        # Countries data
        self.countries_csv = [
            {
                "CountryID": 1,
                "CountryName": "DRC (Congo)",
                "GDP_BillionUSD": 55,
                "MiningRevenue_BillionUSD": 12,
                "KeyProjects": "Cobalt expansion in Kolwezi"
            },
            {
                "CountryID": 2,
                "CountryName": "South Africa",
                "GDP_BillionUSD": 350,
                "MiningRevenue_BillionUSD": 25,
                "KeyProjects": "Bushveld Lithium Project"
            },
            {
                "CountryID": 3,
                "CountryName": "Mozambique",
                "GDP_BillionUSD": 20,
                "MiningRevenue_BillionUSD": 4,
                "KeyProjects": "Balama Graphite Project"
            },
            {
                "CountryID": 4,
                "CountryName": "Namibia",
                "GDP_BillionUSD": 15,
                "MiningRevenue_BillionUSD": 3,
                "KeyProjects": "Otjozondu Manganese Project"
            }
        ]
    
    def load_mineral_locations(self):
        """Load mineral mining locations with coordinates"""
        self.mineral_locations = [
            {
                "name": "Tenke Fungurume Mine",
                "mineral": "Cobalt",
                "country": "Democratic Republic of Congo",
                "latitude": -10.5833,
                "longitude": 26.4167,
                "type": "Open Pit",
                "operator": "China Molybdenum",
                "production": "20,000 tonnes/year",
                "reserves": "3.2 million tonnes",
                "status": "Operational",
                "investment": "2.5 Billion USD"
            },
            {
                "name": "Kolwezi Cobalt Mines",
                "mineral": "Cobalt",
                "country": "Democratic Republic of Congo",
                "latitude": -10.7167,
                "longitude": 25.4667,
                "type": "Underground & Open Pit",
                "operator": "Multiple Operators",
                "production": "45,000 tonnes/year",
                "reserves": "5.8 million tonnes",
                "status": "Operational",
                "investment": "1.8 Billion USD"
            },
            {
                "name": "Bushveld Lithium Project",
                "mineral": "Lithium",
                "country": "South Africa",
                "latitude": -25.0,
                "longitude": 28.5,
                "type": "Hard Rock",
                "operator": "African Lithium",
                "production": "15,000 tonnes/year",
                "reserves": "1.5 million tonnes",
                "status": "Development",
                "investment": "500 Million USD"
            },
            {
                "name": "Balama Graphite Project",
                "mineral": "Graphite",
                "country": "Mozambique",
                "latitude": -13.1833,
                "longitude": 38.5833,
                "type": "Open Pit",
                "operator": "Syrah Resources",
                "production": "50,000 tonnes/year",
                "reserves": "118 million tonnes",
                "status": "Operational",
                "investment": "200 Million USD"
            },
            {
                "name": "Otjozondu Manganese Mine",
                "mineral": "Manganese",
                "country": "Namibia",
                "latitude": -21.4333,
                "longitude": 16.9667,
                "type": "Open Pit",
                "operator": "Omegacorp",
                "production": "200,000 tonnes/year",
                "reserves": "15 million tonnes",
                "status": "Operational",
                "investment": "150 Million USD"
            },
            {
                "name": "Kalahari Manganese Field",
                "mineral": "Manganese",
                "country": "South Africa",
                "latitude": -27.5,
                "longitude": 22.5,
                "type": "Underground",
                "operator": "Assmang",
                "production": "3.2 million tonnes/year",
                "reserves": "450 million tonnes",
                "status": "Operational",
                "investment": "1.2 Billion USD"
            },
            {
                "name": "Zulu Lithium Project",
                "mineral": "Lithium",
                "country": "Zimbabwe",
                "latitude": -20.0833,
                "longitude": 30.8333,
                "type": "Pegmatite",
                "operator": "Premier African Minerals",
                "production": "Planned: 50,000 tonnes/year",
                "reserves": "20.1 million tonnes",
                "status": "Development",
                "investment": "300 Million USD"
            },
            {
                "name": "Goulamina Lithium Project",
                "mineral": "Lithium",
                "country": "Mali",
                "latitude": 11.1667,
                "longitude": -7.2500,
                "type": "Spodumene",
                "operator": "Leo Lithium",
                "production": "Planned: 500,000 tonnes/year",
                "reserves": "31.2 million tonnes",
                "status": "Development",
                "investment": "400 Million USD"
            },
            {
                "name": "Kamoa-Kakula Copper Complex",
                "mineral": "Cobalt",
                "country": "Democratic Republic of Congo",
                "latitude": -10.9333,
                "longitude": 25.6000,
                "type": "Underground",
                "operator": "Ivanhoe Mines",
                "production": "15,000 tonnes/year (Cobalt by-product)",
                "reserves": "2.5 million tonnes",
                "status": "Operational",
                "investment": "3.5 Billion USD"
            },
            {
                "name": "Rhyolite Ridge Lithium Project",
                "mineral": "Lithium",
                "country": "Namibia",
                "latitude": -22.5000,
                "longitude": 15.8000,
                "type": "Sedimentary",
                "operator": "Ioneer Ltd",
                "production": "Planned: 20,000 tonnes/year",
                "reserves": "18.5 million tonnes",
                "status": "Development",
                "investment": "600 Million USD"
            }
        ]
        
        # Mineral colors for mapping
        self.mineral_colors = {
            "Cobalt": "red",
            "Lithium": "blue", 
            "Graphite": "green",
            "Manganese": "purple"
        }
        
        # Mineral icons
        self.mineral_icons = {
            "Cobalt": "info-sign",
            "Lithium": "star",
            "Graphite": "certificate",
            "Manganese": "asterisk"
        }
    
    def get_mineral_locations(self, mineral_name=None, country_name=None):
        """Get mineral locations with optional filtering"""
        locations = self.mineral_locations
        
        if mineral_name and mineral_name != "All Minerals":
            locations = [loc for loc in locations if loc['mineral'].lower() == mineral_name.lower()]
        
        if country_name and country_name != "All Countries":
            locations = [loc for loc in locations if loc['country'].lower() == country_name.lower()]
        
        return locations
    
    def get_minerals_by_country(self, country_name):
        """Get all minerals found in a specific country"""
        locations = self.get_mineral_locations(country_name=country_name)
        minerals = set(loc['mineral'] for loc in locations)
        return list(minerals)
    
    def get_mineral_color(self, mineral_name):
        """Get color for a specific mineral"""
        return self.mineral_colors.get(mineral_name, "gray")
    
    def get_mineral_icon(self, mineral_name):
        """Get icon for a specific mineral"""
        return self.mineral_icons.get(mineral_name, "info-sign")
    
    def load_data(self, filename):
        """Load data from a JSON file"""
        filepath = os.path.join(self.data_dir, filename)
        try:
            with open(filepath, 'r', encoding='utf-8') as file:
                return json.load(file)
        except FileNotFoundError:
            print(f"File {filepath} not found. Returning empty list.")
            return []
        except json.JSONDecodeError:
            print(f"Error decoding JSON from {filepath}. Returning empty list.")
            return []
    
    def save_data(self, filename, data):
        """Save data to a JSON file"""
        filepath = os.path.join(self.data_dir, filename)
        try:
            with open(filepath, 'w', encoding='utf-8') as file:
                json.dump(data, file, indent=2, ensure_ascii=False)
            return True
        except Exception as e:
            print(f"Error saving to {filepath}: {e}")
            return False
    
    def get_user_by_credentials(self, username, password):
        """Find user by username and password"""
        users = self.load_data("users.json")
        for user in users:
            if user['username'] == username and user['password'] == password:
                return user
        return None
    
    def get_minerals(self):
        """Get all minerals - combines JSON and CSV data"""
        json_minerals = self.load_data("minerals.json")
        # Enhance JSON minerals with CSV data
        for mineral in json_minerals:
            csv_mineral = self.get_mineral_from_csv(mineral['name'])
            if csv_mineral:
                mineral['market_price'] = csv_mineral['MarketPriceUSD_per_tonne']
                mineral['description'] = csv_mineral['Description']
        return json_minerals
    
    def get_mineral_from_csv(self, mineral_name):
        """Get mineral data from CSV by name"""
        for mineral in self.minerals_csv:
            if mineral['MineralName'].lower() == mineral_name.lower():
                return mineral
        return None
    
    def get_countries(self):
        """Get all countries - FIXED VERSION"""
        # Load countries from JSON file
        json_countries = self.load_data("countries.json")
        
        # If JSON file is empty or doesn't exist, use the data from setup
        if not json_countries:
            json_countries = [
                {
                    "name": "Democratic Republic of Congo",
                    "flag": "assets/flags/drc.png",
                    "key_minerals": ["Cobalt", "Copper", "Diamonds", "Gold", "Coltan"],
                    "production_stats": {
                        "Cobalt": "120,000 t",
                        "Copper": "1.8 Mt",
                        "Diamonds": "12 million carats"
                    },
                    "gdp_growth": "6.2%",
                    "mining_contribution": "28% of GDP",
                    "key_projects": [
                        {
                            "name": "Tenke Fungurume",
                            "mineral": "Cobalt/Copper",
                            "status": "Operational",
                            "operator": "China Molybdenum"
                        }
                    ]
                },
                {
                    "name": "South Africa",
                    "flag": "assets/flags/south_africa.png",
                    "key_minerals": ["Platinum", "Manganese", "Chromium", "Gold", "Diamonds"],
                    "production_stats": {
                        "Manganese": "7.2 Mt",
                        "Platinum": "130 t",
                        "Chromium": "16.1 Mt",
                        "Gold": "110 t"
                    },
                    "gdp_growth": "1.5%",
                    "mining_contribution": "7.3% of GDP",
                    "key_projects": [
                        {
                            "name": "Moab Khotsong Mine",
                            "mineral": "Gold",
                            "status": "Operational",
                            "operator": "Harmony Gold"
                        }
                    ]
                },
                {
                    "name": "Mozambique",
                    "flag": "assets/flags/mozambique.png",
                    "key_minerals": ["Graphite", "Coal", "Titanium", "Aluminum"],
                    "production_stats": {
                        "Graphite": "50,000 t",
                        "Coal": "15 Mt",
                        "Titanium": "500,000 t"
                    },
                    "gdp_growth": "4.5%",
                    "mining_contribution": "20% of GDP",
                    "key_projects": [
                        {
                            "name": "Balama Graphite Project",
                            "mineral": "Graphite",
                            "status": "Operational",
                            "operator": "Syrah Resources"
                        }
                    ]
                },
                {
                    "name": "Namibia",
                    "flag": "assets/flags/namibia.png",
                    "key_minerals": ["Manganese", "Uranium", "Diamonds", "Copper"],
                    "production_stats": {
                        "Manganese": "200,000 t",
                        "Uranium": "3,500 t",
                        "Diamonds": "1.5 million carats"
                    },
                    "gdp_growth": "3.8%",
                    "mining_contribution": "20% of GDP",
                    "key_projects": [
                        {
                            "name": "Otjozondu Manganese Project",
                            "mineral": "Manganese",
                            "status": "Operational",
                            "operator": "Omegacorp"
                        }
                    ]
                }
            ]
        
        # Enhance JSON countries with CSV data - FIXED VERSION
        for country in json_countries:
            csv_country = self.get_country_from_csv(country['name'])
            if csv_country:
                # Add GDP and mining revenue from CSV
                country['gdp'] = csv_country['GDP_BillionUSD']
                country['mining_revenue'] = csv_country['MiningRevenue_BillionUSD']
                # Don't overwrite existing key_projects, just add CSV project if needed
                if 'key_projects' not in country or not country['key_projects']:
                    country['key_projects'] = [{"name": csv_country['KeyProjects'], "mineral": "Various", "status": "Operational", "operator": "Various"}]
        
        return json_countries
    
    def get_country_from_csv(self, country_name):
        """Get country data from CSV by name - FIXED VERSION"""
        # Country name mapping to handle different naming conventions
        country_mapping = {
            "Democratic Republic of Congo": "DRC (Congo)",
            "South Africa": "South Africa", 
            "Mozambique": "Mozambique",
            "Namibia": "Namibia"
        }
        
        # Get the search name from mapping, or use original name
        search_name = country_mapping.get(country_name, country_name)
        
        for country in self.countries_csv:
            if country['CountryName'].lower() == search_name.lower():
                return country
        return None
    
    def get_production_stats(self, country_name=None, mineral_name=None, year=None):
        """Get production statistics with filtering options"""
        stats = []
        
        for stat in self.production_stats_csv:
            # Get country and mineral names
            country = self.get_country_by_id(stat['CountryID'])
            mineral = self.get_mineral_by_id(stat['MineralID'])
            
            if country and mineral:
                stat_data = {
                    'Year': stat['Year'],
                    'Country': country['CountryName'],
                    'Mineral': mineral['MineralName'],
                    'Production_tonnes': stat['Production_tonnes'],
                    'ExportValue_BillionUSD': stat['ExportValue_BillionUSD'],
                    'CountryID': stat['CountryID'],
                    'MineralID': stat['MineralID']
                }
                
                # Apply filters
                if country_name and country_name.lower() != country['CountryName'].lower():
                    continue
                if mineral_name and mineral_name.lower() != mineral['MineralName'].lower():
                    continue
                if year and stat['Year'] != year:
                    continue
                
                stats.append(stat_data)
        
        return stats
    
    def get_country_by_id(self, country_id):
        """Get country by ID from CSV data"""
        for country in self.countries_csv:
            if country['CountryID'] == country_id:
                return country
        return None
    
    def get_mineral_by_id(self, mineral_id):
        """Get mineral by ID from CSV data"""
        for mineral in self.minerals_csv:
            if mineral['MineralID'] == mineral_id:
                return mineral
        return None

# 3. PROJECT STRUCTURE SETUP
def setup_project_structure():
    """Create the complete project directory structure"""
    
    # Create main directories
    directories = [
        "data",
        "assets/flags",
        "screens"
    ]
    
    for directory in directories:
        if not os.path.exists(directory):
            os.makedirs(directory)
            print(f"✅ Created directory: {directory}")
        else:
            print(f"📁 Directory already exists: {directory}")
    
    # Create data files
    users_data = [
        {"username": "Owami9", "password": "2020", "role": "Administrator"},
        {"username": "Eric2", "password": "inv123", "role": "Investor"},
        {"username": "Faith1", "password": "res123", "role": "Researcher"}
    ]
    
    minerals_data = [
        {
            "id": 1,
            "name": "Cobalt",
            "description": "A hard, lustrous, silver-gray metal essential for rechargeable batteries in electric vehicles and electronics.",
            "uses": ["Rechargeable batteries", "Superalloys", "Catalysts", "Magnetic alloys"],
            "major_producers": ["Democratic Republic of Congo", "Russia", "Australia", "Canada"],
            "price_trend": [45000, 52000, 48000, 51000, 49000, 53000],
            "global_reserves": "7.1 million tonnes",
            "key_properties": ["High melting point", "Ferromagnetic", "Hardness"]
        },
        {
            "id": 2,
            "name": "Lithium",
            "description": "A soft, silver-white metal crucial for lithium-ion batteries in electric vehicles and energy storage.",
            "uses": ["Lithium-ion batteries", "Ceramics and glass", "Pharmaceuticals", "Polymers"],
            "major_producers": ["Australia", "Chile", "China", "Argentina"],
            "price_trend": [8500, 9200, 7800, 10500, 12000, 11000],
            "global_reserves": "22 million tonnes",
            "key_properties": ["Lightest metal", "High electrochemical potential", "Reactive"]
        },
        {
            "id": 3,
            "name": "Graphite",
            "description": "A crystalline form of carbon used in batteries and high-temperature lubricants.",
            "uses": ["Battery anodes", "Lubricants", "Refractories", "Pencils"],
            "major_producers": ["China", "Mozambique", "Brazil", "Canada"],
            "price_trend": [700, 750, 800, 780, 820, 800],
            "global_reserves": "800 million tonnes",
            "key_properties": ["Conductive", "High melting point", "Lubricating"]
        },
        {
            "id": 4,
            "name": "Manganese",
            "description": "A gray-white metal essential for steel production and batteries.",
            "uses": ["Steel production", "Batteries", "Aluminum alloys", "Fertilizers"],
            "major_producers": ["South Africa", "Australia", "Gabon", "Namibia"],
            "price_trend": [2000, 2100, 2200, 2150, 2250, 2200],
            "global_reserves": "1.5 billion tonnes",
            "key_properties": ["Hardening agent", "Alloying element", "Oxidizing agent"]
        }
    ]
    
    countries_data = [
        {
            "name": "Democratic Republic of Congo",
            "flag": "assets/flags/drc.png",
            "key_minerals": ["Cobalt", "Copper", "Diamonds", "Gold", "Coltan"],
            "production_stats": {
                "Cobalt": "120,000 t",
                "Copper": "1.8 Mt",
                "Diamonds": "12 million carats"
            },
            "gdp_growth": "6.2%",
            "mining_contribution": "28% of GDP",
            "key_projects": [
                {
                    "name": "Tenke Fungurume",
                    "mineral": "Cobalt/Copper",
                    "status": "Operational",
                    "operator": "China Molybdenum"
                }
            ]
        },
        {
            "name": "South Africa",
            "flag": "assets/flags/south_africa.png",
            "key_minerals": ["Platinum", "Manganese", "Chromium", "Gold", "Diamonds"],
            "production_stats": {
                "Manganese": "7.2 Mt",
                "Platinum": "130 t",
                "Chromium": "16.1 Mt",
                "Gold": "110 t"
            },
            "gdp_growth": "1.5%",
            "mining_contribution": "7.3% of GDP",
            "key_projects": [
                {
                    "name": "Moab Khotsong Mine",
                    "mineral": "Gold",
                    "status": "Operational",
                    "operator": "Harmony Gold"
                }
            ]
        },
        {
            "name": "Mozambique",
            "flag": "assets/flags/mozambique.png",
            "key_minerals": ["Graphite", "Coal", "Titanium", "Aluminum"],
            "production_stats": {
                "Graphite": "50,000 t",
                "Coal": "15 Mt",
                "Titanium": "500,000 t"
            },
            "gdp_growth": "4.5%",
            "mining_contribution": "20% of GDP",
            "key_projects": [
                {
                    "name": "Balama Graphite Project",
                    "mineral": "Graphite",
                    "status": "Operational",
                    "operator": "Syrah Resources"
                }
            ]
        },
        {
            "name": "Namibia",
            "flag": "assets/flags/namibia.png",
            "key_minerals": ["Manganese", "Uranium", "Diamonds", "Copper"],
            "production_stats": {
                "Manganese": "200,000 t",
                "Uranium": "3,500 t",
                "Diamonds": "1.5 million carats"
            },
            "gdp_growth": "3.8%",
            "mining_contribution": "20% of GDP",
            "key_projects": [
                {
                    "name": "Otjozondu Manganese Project",
                    "mineral": "Manganese",
                    "status": "Operational",
                    "operator": "Omegacorp"
                }
            ]
        }
    ]
    
    # Create JSON files
    files_to_create = {
        "data/users.json": users_data,
        "data/minerals.json": minerals_data,
        "data/countries.json": countries_data
    }
    
    for filepath, data in files_to_create.items():
        try:
            with open(filepath, 'w', encoding='utf-8') as file:
                json.dump(data, file, indent=2, ensure_ascii=False)
            print(f"✅ Created: {filepath}")
        except Exception as e:
            print(f"❌ Error creating {filepath}: {e}")
    
    print("\n🎉 Project structure setup completed!")
m
# 4. MAP GENERATOR CLASS
class MapGenerator:
    def __init__(self, data_manager):
        self.data_manager = data_manager
        self.current_map_file = None
    
    def create_mineral_map(self, mineral_name=None, country_name=None):
        """Create an interactive folium map with mineral locations"""
        # Create a map centered on Africa
        mineral_map = folium.Map(
            location=[-8.7832, 34.5085],  # Center on Africa
            zoom_start=4,
            tiles='OpenStreetMap'
        )
        
        # Add a title
        title_html = '''
                     <h3 align="center" style="font-size:20px"><b>African Critical Minerals Map</b></h3>
                     '''
        mineral_map.get_root().html.add_child(folium.Element(title_html))
        
        # Get filtered locations
        locations = self.data_manager.get_mineral_locations(mineral_name, country_name)
        
        # Add mineral locations to the map
        for location in locations:
            self.add_mineral_marker(mineral_map, location)
        
        # Add layer control
        folium.LayerControl().add_to(mineral_map)
        
        # Add fullscreen button
        plugins.Fullscreen().add_to(mineral_map)
        
        # Add measure control
        plugins.MeasureControl().add_to(mineral_map)
        
        # Save map to temporary file
        self.current_map_file = tempfile.NamedTemporaryFile(delete=False, suffix='.html')
        mineral_map.save(self.current_map_file.name)
        
        return self.current_map_file.name
    
    def add_mineral_marker(self, mineral_map, location):
        """Add a mineral location marker to the map"""
        # Get color and icon based on mineral
        color = self.data_manager.get_mineral_color(location['mineral'])
        icon = self.data_manager.get_mineral_icon(location['mineral'])
        
        # Create popup content
        popup_content = f"""
        <div style="width: 250px;">
            <h4>{location['name']}</h4>
            <hr>
            <p><b>Mineral:</b> {location['mineral']}</p>
            <p><b>Country:</b> {location['country']}</p>
            <p><b>Type:</b> {location['type']}</p>
            <p><b>Operator:</b> {location['operator']}</p>
            <p><b>Production:</b> {location['production']}</p>
            <p><b>Reserves:</b> {location['reserves']}</p>
            <p><b>Status:</b> {location['status']}</p>
            <p><b>Investment:</b> {location['investment']}</p>
            <p><b>Coordinates:</b> {location['latitude']:.4f}, {location['longitude']:.4f}</p>
        </div>
        """
        
        # Create marker with custom icon
        folium.Marker(
            location=[location['latitude'], location['longitude']],
            popup=folium.Popup(popup_content, max_width=300),
            tooltip=f"{location['name']} ({location['mineral']})",
            icon=folium.Icon(
                color=color,
                icon=icon,
                prefix='glyphicon'
            )
        ).add_to(mineral_map)
        
        # Add circle marker for additional visibility
        folium.CircleMarker(
            location=[location['latitude'], location['longitude']],
            radius=8,
            popup=location['name'],
            color=color,
            fill=True,
            opacity=0.7,
            fillOpacity=0.2
        ).add_to(mineral_map)
    
    def cleanup(self):
        """Clean up temporary map files"""
        if self.current_map_file and os.path.exists(self.current_map_file.name):
            try:
                os.unlink(self.current_map_file.name)
            except:
                pass

# 5. MAIN APPLICATION CLASS WITH REFINED COLOR SCHEME
class CriticalMineralsApp:
    def __init__(self):
        self.root = tk.Tk()
        self.root.title("African Critical Minerals App")
        self.root.geometry("1200x800")
        
        # Refined color scheme
        self.setup_refined_colors()
        
        # Initialize data manager and map generator
        self.data_manager = DataManager()
        self.map_generator = MapGenerator(self.data_manager)
        self.current_user = None
        
        # Create notebook for screen management
        self.notebook = ttk.Notebook(self.root)
        self.notebook.pack(fill='both', expand=True, padx=10, pady=10)
        
        # Create frames for different screens
        self.login_frame = ttk.Frame(self.notebook)
        self.dashboard_frame = ttk.Frame(self.notebook)
        self.minerals_frame = ttk.Frame(self.notebook)
        self.countries_frame = ttk.Frame(self.notebook)
        self.map_frame = ttk.Frame(self.notebook)
        self.mineral_map_frame = ttk.Frame(self.notebook)
        self.charts_frame = ttk.Frame(self.notebook)
        self.analytics_frame = ttk.Frame(self.notebook)
        self.admin_frame = ttk.Frame(self.notebook)
        
        # Add frames to notebook
        self.notebook.add(self.login_frame, text="Login")
        self.notebook.add(self.dashboard_frame, text="Dashboard")
        self.notebook.add(self.minerals_frame, text="Minerals")
        self.notebook.add(self.countries_frame, text="Countries")
        self.notebook.add(self.map_frame, text="Country Map")
        self.notebook.add(self.mineral_map_frame, text="🌍 Mineral Map")
        self.notebook.add(self.charts_frame, text="📊 Charts")
        self.notebook.add(self.analytics_frame, text="📈 Analytics")
        self.notebook.add(self.admin_frame, text="👑 Admin Panel")
        
        # Hide all tabs except login initially
        for i in range(1, 9):
            self.notebook.hide(i)
        
        # Setup all screens
        self.setup_login_screen()
        self.setup_dashboard_screen()
        self.setup_minerals_screen()
        self.setup_countries_screen()
        self.setup_map_screen()
        self.setup_mineral_map_screen()
        self.setup_charts_screen()
        self.setup_analytics_screen()
        self.setup_admin_panel()
        
        # Configure styles
        self.configure_styles()
        
        # Bind notebook change event
        self.notebook.bind("<<NotebookTabChanged>>", self.on_tab_changed)
        
        # Cleanup on exit
        self.root.protocol("WM_DELETE_WINDOW", self.on_closing)
    
    def setup_refined_colors(self):
        """Setup refined color scheme as requested"""
        self.colors = {
            # Pure bright white background
            'bg_primary': '#FFFFFF',
            'bg_secondary': '#F8F9FA',
            
            # Light greenish-blueish color for buttons
            'button_primary': '#20B2AA',  # Light Sea Green
            'button_hover': '#48D1CC',    # Medium Turquoise
            'button_active': '#008B8B',   # Dark Cyan
            
            # Text colors
            'text_primary': '#000000',    # Pure black
            'text_secondary': '#333333',  # Dark gray
            'text_light': '#666666',      # Medium gray
            'text_white': '#FFFFFF',      # Pure white
            
            # Mineral colors (kept for charts)
            'cobalt': '#DC2626',
            'lithium': '#2563EB',
            'graphite': '#059669',
            'manganese': '#7C3AED',
            
            # Chart colors
            'chart_blue': '#3B82F6',
            'chart_red': '#EF4444',
            'chart_green': '#10B981',
            'chart_yellow': '#F59E0B',
            'chart_purple': '#8B5CF6'
        }
    
    def configure_styles(self):
        """Configure styles for all widgets"""
        # Configure ttk styles
        self.style = ttk.Style()
        self.style.configure('TFrame', background=self.colors['bg_primary'])
        self.style.configure('TLabel', background=self.colors['bg_primary'], foreground=self.colors['text_primary'])
        self.style.configure('TButton', background=self.colors['button_primary'], foreground=self.colors['text_white'])
        self.style.configure('TLabelframe', background=self.colors['bg_primary'])
        self.style.configure('TLabelframe.Label', background=self.colors['bg_primary'], foreground=self.colors['text_primary'])
        
        # Make all frames use bright white background
        for frame in [self.login_frame, self.dashboard_frame, self.minerals_frame, 
                      self.countries_frame, self.map_frame, self.mineral_map_frame,
                      self.charts_frame, self.analytics_frame, self.admin_frame]:
            try:
                frame.configure(style='TFrame')
            except:
                pass
    
    def on_closing(self):
        """Clean up when application closes"""
        self.map_generator.cleanup()
        self.root.destroy()
    
    def show_toast(self, message):
        """Show a message box as toast replacement"""
        messagebox.showinfo("Info", message)
    
    def on_tab_changed(self, event):
        """Handle tab changes"""
        current_tab = self.notebook.index(self.notebook.select())
        if current_tab == 2:  # Minerals tab
            self.load_minerals()
        elif current_tab == 3:  # Countries tab
            self.load_countries()
        elif current_tab == 5:  # Mineral Map tab
            self.load_mineral_map()
        elif current_tab == 6:  # Charts tab
            self.load_charts()
        elif current_tab == 7:  # Analytics tab
            self.load_analytics()
        elif current_tab == 8:  # Admin Panel tab
            self.load_admin_panel()
    
    # LOGIN SCREEN
    def setup_login_screen(self):
        # Pure white background
        self.login_frame.configure(style='TFrame')
        
        title_label = tk.Label(self.login_frame, 
                              text="African Critical Minerals App", 
                              font=("Arial", 18, "bold"),
                              bg=self.colors['bg_primary'],
                              fg=self.colors['text_primary'])
        title_label.pack(pady=40)
        
        # Login form container
        form_frame = tk.Frame(self.login_frame, bg=self.colors['bg_primary'])
        form_frame.pack(pady=20)
        
        # Username
        tk.Label(form_frame, text="Username:", 
                font=("Arial", 11, "bold"),
                bg=self.colors['bg_primary'],
                fg=self.colors['text_primary']).pack(pady=8)
        self.username_entry = tk.Entry(form_frame, width=25, font=("Arial", 11))
        self.username_entry.pack(pady=8)
        
        # Password
        tk.Label(form_frame, text="Password:", 
                font=("Arial", 11, "bold"),
                bg=self.colors['bg_primary'],
                fg=self.colors['text_primary']).pack(pady=8)
        self.password_entry = tk.Entry(form_frame, width=25, show="*", font=("Arial", 11))
        self.password_entry.pack(pady=8)
        
        # Login button with light greenish-blue color
        login_btn = tk.Button(form_frame, 
                             text="🔐 Login", 
                             command=self.try_login,
                             font=("Arial", 12, "bold"),
                             bg=self.colors['button_primary'],
                             fg=self.colors['text_white'],
                             activebackground=self.colors['button_active'],
                             activeforeground=self.colors['text_white'],
                             padx=30,
                             pady=12,
                             relief='raised',
                             bd=2,
                             cursor='hand2')
        login_btn.pack(pady=25)
        
        self.root.bind('<Return>', lambda event: self.try_login())
    
    def try_login(self):
        username = self.username_entry.get()
        password = self.password_entry.get()
        
        user = self.data_manager.get_user_by_credentials(username, password)
        
        if user:
            self.current_user = user
            messagebox.showinfo("Login Successful", f"Welcome, {user['role']}!")
            
            # Hide Login tab and show all other tabs
            self.notebook.hide(0)
            
            # Show all other tabs
            for i in range(1, 9):
                self.notebook.add(self.notebook.winfo_children()[i], text=self.notebook.tab(i, "text"))
            
            self.notebook.select(1)
            self.update_dashboard()
        else:
            messagebox.showerror("Login Failed", "Invalid username or password")
    
    # DASHBOARD SCREEN
    def setup_dashboard_screen(self):
        self.dashboard_frame.configure(style='TFrame')
        
        # Welcome label in black
        self.welcome_label = tk.Label(self.dashboard_frame, 
                                     text="Welcome to Dashboard", 
                                     font=("Arial", 18, "bold"),
                                     bg=self.colors['bg_primary'],
                                     fg=self.colors['text_primary'])
        self.welcome_label.pack(pady=30)
        
        buttons_frame = tk.Frame(self.dashboard_frame, bg=self.colors['bg_primary'])
        buttons_frame.pack(pady=20)
        
        # All buttons use the light greenish-blue color
        button_configs = [
            ("👑 Admin Panel", lambda: self.notebook.select(8)),
            ("💎 View Minerals", lambda: self.notebook.select(2)),
            ("🇦🇴 View Countries", lambda: self.notebook.select(3)),
            ("🗺️ Country Map", lambda: self.notebook.select(4)),
            ("🌍 Interactive Mineral Map", lambda: self.notebook.select(5)),
            ("📊 View Charts", lambda: self.notebook.select(6)),
            ("📈 View Analytics", lambda: self.notebook.select(7))
        ]
        
        for text, command in button_configs:
            btn = tk.Button(buttons_frame, 
                           text=text,
                           command=command,
                           font=("Arial", 11, "bold"),
                           bg=self.colors['button_primary'],
                           fg=self.colors['text_white'],
                           activebackground=self.colors['button_active'],
                           activeforeground=self.colors['text_white'],
                           relief='raised',
                           bd=2,
                           padx=20,
                           pady=12,
                           width=25,
                           cursor='hand2')
            btn.pack(pady=8, fill='x')
            
            # Add hover effect
            def on_enter(e, btn=btn):
                btn['background'] = self.colors['button_hover']
            
            def on_leave(e, btn=btn):
                btn['background'] = self.colors['button_primary']
            
            btn.bind("<Enter>", on_enter)
            btn.bind("<Leave>", on_leave)
        
        # Logout button also uses the same color
        logout_btn = tk.Button(self.dashboard_frame, 
                              text="🚪 Logout", 
                              command=self.logout,
                              font=("Arial", 11, "bold"),
                              bg=self.colors['button_primary'],
                              fg=self.colors['text_white'],
                              activebackground=self.colors['button_active'],
                              activeforeground=self.colors['text_white'],
                              padx=20,
                              pady=10,
                              cursor='hand2')
        logout_btn.pack(pady=20)
    
    def update_dashboard(self):
        if self.current_user:
            user_role = self.current_user['role']
            self.welcome_label.config(
                text=f"Welcome, {self.current_user['username']}! Role: {user_role}"
            )
    
    def logout(self):
        self.current_user = None
        # Hide all tabs except login
        for i in range(1, 9):
            self.notebook.hide(i)
        # Show login tab again
        self.notebook.add(self.login_frame, text="Login")
        self.notebook.select(0)
        self.username_entry.delete(0, tk.END)
        self.password_entry.delete(0, tk.END)
    # MINERALS SCREEN
    def setup_minerals_screen(self):
        self.minerals_frame.configure(style='TFrame')
        
        title_label = tk.Label(self.minerals_frame, 
                              text="💎 Critical Minerals", 
                              font=("Arial", 16, "bold"),
                              bg=self.colors['bg_primary'],
                              fg=self.colors['text_primary'])
        title_label.pack(pady=15)
        
        minerals_container = tk.Frame(self.minerals_frame, bg=self.colors['bg_primary'])
        minerals_container.pack(fill='both', expand=True, padx=10, pady=10)
        
        canvas = tk.Canvas(minerals_container, bg=self.colors['bg_primary'], highlightthickness=0)
        scrollbar = ttk.Scrollbar(minerals_container, orient="vertical", command=canvas.yview)
        self.minerals_scrollable_frame = tk.Frame(canvas, bg=self.colors['bg_primary'])
        
        self.minerals_scrollable_frame.bind(
            "<Configure>",
            lambda e: canvas.configure(scrollregion=canvas.bbox("all"))
        )
        
        canvas.create_window((0, 0), window=self.minerals_scrollable_frame, anchor="nw")
        canvas.configure(yscrollcommand=scrollbar.set, bg=self.colors['bg_primary'])
        
        canvas.pack(side="left", fill="both", expand=True)
        scrollbar.pack(side="right", fill="y")
        
        # Back button with the light greenish-blue color
        back_btn = tk.Button(self.minerals_frame, 
                            text="← Back to Dashboard", 
                            command=lambda: self.notebook.select(1),
                            font=("Arial", 10, "bold"),
                            bg=self.colors['button_primary'],
                            fg=self.colors['text_white'],
                            padx=15,
                            pady=8,
                            cursor='hand2')
        back_btn.pack(pady=10)
    
    def load_minerals(self):
        for widget in self.minerals_scrollable_frame.winfo_children():
            widget.destroy()
        
        minerals = self.data_manager.get_minerals()
        
        for mineral in minerals:
            # Create card with white background
            card = tk.Frame(self.minerals_scrollable_frame, 
                           bg=self.colors['bg_primary'],
                           relief='solid',
                           bd=1,
                           padx=15,
                           pady=10)
            card.pack(fill='x', padx=10, pady=8)
            
            # Mineral header with light greenish-blue color
            header_frame = tk.Frame(card, bg=self.colors['button_primary'])
            header_frame.pack(fill='x', pady=(0, 10))
            
            name_label = tk.Label(header_frame, 
                                 text=mineral['name'],
                                 font=("Arial", 14, "bold"),
                                 bg=self.colors['button_primary'],
                                 fg=self.colors['text_white'],
                                 padx=10,
                                 pady=8)
            name_label.pack(anchor='w')
            
            # Market price
            market_price = f"Market Price: ${mineral.get('market_price', 'N/A'):,}/tonne" if mineral.get('market_price') else "Market Price: N/A"
            price_label = tk.Label(card, 
                                  text=market_price,
                                  font=("Arial", 11, "bold"),
                                  bg=self.colors['bg_primary'],
                                  fg=self.colors['text_primary'],
                                  pady=5)
            price_label.pack(anchor='w')
            
            # Description
            desc_label = tk.Label(card, 
                                 text=mineral['description'],
                                 wraplength=700,
                                 justify='left',
                                 bg=self.colors['bg_primary'],
                                 fg=self.colors['text_primary'],
                                 pady=3)
            desc_label.pack(anchor='w')
            
            # Uses with bullet points
            uses_text = "• " + "\n• ".join(mineral['uses'])
            uses_label = tk.Label(card, 
                                 text=f"Uses:\n{uses_text}",
                                 wraplength=700,
                                 justify='left',
                                 bg=self.colors['bg_primary'],
                                 fg=self.colors['text_secondary'],
                                 pady=3)
            uses_label.pack(anchor='w')
            
            # Major producers
            producers_text = "Major Producers: " + ", ".join(mineral['major_producers'])
            producers_label = tk.Label(card, 
                                      text=producers_text,
                                      wraplength=700,
                                      bg=self.colors['bg_primary'],
                                      fg=self.colors['text_secondary'],
                                      pady=3)
            producers_label.pack(anchor='w')
            
            # Global reserves
            reserves_text = f"Global Reserves: {mineral.get('global_reserves', 'N/A')}"
            reserves_label = tk.Label(card, 
                                     text=reserves_text,
                                     wraplength=700,
                                     bg=self.colors['bg_primary'],
                                     fg=self.colors['text_secondary'],
                                     pady=3)
            reserves_label.pack(anchor='w')
    
    # COUNTRIES SCREEN - FIXED VERSION
    def setup_countries_screen(self):
        self.countries_frame.configure(style='TFrame')
        
        title_label = tk.Label(self.countries_frame, 
                              text="🇦🇴 African Countries & Minerals", 
                              font=("Arial", 16, "bold"),
                              bg=self.colors['bg_primary'],
                              fg=self.colors['text_primary'])
        title_label.pack(pady=15)
        
        countries_container = tk.Frame(self.countries_frame, bg=self.colors['bg_primary'])
        countries_container.pack(fill='both', expand=True, padx=10, pady=10)
        
        canvas = tk.Canvas(countries_container, bg=self.colors['bg_primary'], highlightthickness=0)
        scrollbar = ttk.Scrollbar(countries_container, orient="vertical", command=canvas.yview)
        self.countries_scrollable_frame = tk.Frame(canvas, bg=self.colors['bg_primary'])
        
        self.countries_scrollable_frame.bind(
            "<Configure>",
            lambda e: canvas.configure(scrollregion=canvas.bbox("all"))
        )
        
        canvas.create_window((0, 0), window=self.countries_scrollable_frame, anchor="nw")
        canvas.configure(yscrollcommand=scrollbar.set, bg=self.colors['bg_primary'])
        
        canvas.pack(side="left", fill="both", expand=True)
        scrollbar.pack(side="right", fill="y")
        
        # Back button with the light greenish-blue color
        back_btn = tk.Button(self.countries_frame, 
                            text="← Back to Dashboard", 
                            command=lambda: self.notebook.select(1),
                            font=("Arial", 10, "bold"),
                            bg=self.colors['button_primary'],
                            fg=self.colors['text_white'],
                            padx=15,
                            pady=8,
                            cursor='hand2')
        back_btn.pack(pady=10)
    
    def load_countries(self):
        for widget in self.countries_scrollable_frame.winfo_children():
            widget.destroy()
        
        countries = self.data_manager.get_countries()
        
        # Debug: Print countries to console
        print(f"Loading {len(countries)} countries")
        for country in countries:
            print(f"Country: {country['name']}")
        
        for country in countries:
            # Create card with white background
            card = tk.Frame(self.countries_scrollable_frame, 
                           bg=self.colors['bg_primary'],
                           relief='solid',
                           bd=1,
                           padx=15,
                           pady=12)
            card.pack(fill='x', padx=10, pady=8)
            
            # Country header with light greenish-blue color
            header_frame = tk.Frame(card, bg=self.colors['button_primary'])
            header_frame.pack(fill='x', pady=(0, 10))
            
            name_label = tk.Label(header_frame, 
                                 text=country['name'],
                                 font=("Arial", 14, "bold"),
                                 bg=self.colors['button_primary'],
                                 fg=self.colors['text_white'],
                                 padx=10,
                                 pady=8)
            name_label.pack(anchor='w')
            
            # Economic info - FIXED: Handle missing data gracefully
            gdp_value = country.get('gdp', 'N/A')
            mining_revenue_value = country.get('mining_revenue', 'N/A')
            gdp_text = f"GDP: ${gdp_value}B | Mining Revenue: ${mining_revenue_value}B"
            gdp_label = tk.Label(card, 
                                text=gdp_text,
                                font=("Arial", 11, "bold"),
                                bg=self.colors['bg_primary'],
                                fg=self.colors['text_primary'],
                                pady=5)
            gdp_label.pack(anchor='w')
            
            # Key minerals
            minerals_text = "Key Minerals: " + ", ".join(country['key_minerals'])
            minerals_label = tk.Label(card, 
                                     text=minerals_text,
                                     wraplength=700,
                                     bg=self.colors['bg_primary'],
                                     fg=self.colors['text_primary'],
                                     pady=3)
            minerals_label.pack(anchor='w')
            
            # Production statistics
            if 'production_stats' in country:
                production_text = "Production Statistics:\n"
                for mineral, production in country['production_stats'].items():
                    production_text += f"  • {mineral}: {production}\n"
                production_label = tk.Label(card, 
                                           text=production_text,
                                           justify='left',
                                           bg=self.colors['bg_primary'],
                                           fg=self.colors['text_secondary'],
                                           pady=3)
                production_label.pack(anchor='w')
            
            # Economic indicators
            economic_text = f"Mining Contribution: {country.get('mining_contribution', 'N/A')} | GDP Growth: {country.get('gdp_growth', 'N/A')}"
            economic_label = tk.Label(card, 
                                     text=economic_text,
                                     justify='left',
                                     bg=self.colors['bg_primary'],
                                     fg=self.colors['text_secondary'],
                                     pady=3)
            economic_label.pack(anchor='w')
            
            # Key projects - FIXED: Handle list of projects properly
            if country.get('key_projects'):
                projects_text = "Key Projects:\n"
                for project in country['key_projects']:
                    if isinstance(project, dict):
                        # Handle dictionary format
                        project_name = project.get('name', 'Unknown Project')
                        project_mineral = project.get('mineral', 'Various')
                        project_status = project.get('status', 'Unknown')
                        projects_text += f"  • {project_name} ({project_mineral}) - {project_status}\n"
                    else:
                        # Handle string format
                        projects_text += f"  • {project}\n"
                
                projects_label = tk.Label(card, 
                                         text=projects_text,
                                         wraplength=700,
                                         justify='left',
                                         bg=self.colors['bg_primary'],
                                         fg=self.colors['text_secondary'],
                                         pady=3)
                projects_label.pack(anchor='w')
    
    # MAP SCREEN
    def setup_map_screen(self):
        self.map_frame.configure(style='TFrame')
        
        title_label = tk.Label(self.map_frame, 
                              text="🗺️ African Countries Map", 
                              font=("Arial", 16, "bold"),
                              bg=self.colors['bg_primary'],
                              fg=self.colors['text_primary'])
        title_label.pack(pady=15)
        
        controls_frame = tk.Frame(self.map_frame, bg=self.colors['bg_primary'])
        controls_frame.pack(pady=10)
        
        # Buttons with light greenish-blue color
        web_map_btn = tk.Button(controls_frame, 
                               text="🌍 View Web Map", 
                               command=self.open_web_map,
                               font=("Arial", 10, "bold"),
                               bg=self.colors['button_primary'],
                               fg=self.colors['text_white'],
                               padx=15,
                               pady=8,
                               cursor='hand2')
        web_map_btn.pack(side='left', padx=5)
        
        refresh_btn = tk.Button(controls_frame, 
                               text="🔄 Refresh", 
                               command=self.refresh_map,
                               font=("Arial", 10, "bold"),
                               bg=self.colors['button_primary'],
                               fg=self.colors['text_white'],
                               padx=15,
                               pady=8,
                               cursor='hand2')
        refresh_btn.pack(side='left', padx=5)
        
        info_label = tk.Label(self.map_frame, 
                             text="Click on country names to view detailed mineral information",
                             font=("Arial", 10),
                             bg=self.colors['bg_primary'],
                             fg=self.colors['text_secondary'])
        info_label.pack(pady=5)
        
        list_frame = tk.Frame(self.map_frame, bg=self.colors['bg_primary'])
        list_frame.pack(fill='both', expand=True, padx=10, pady=10)
        
        listbox_frame = tk.Frame(list_frame, bg=self.colors['bg_primary'])
        listbox_frame.pack(fill='both', expand=True)
        
        self.countries_listbox = tk.Listbox(listbox_frame, height=15, font=("Arial", 11))
        scrollbar = ttk.Scrollbar(listbox_frame, orient="vertical", command=self.countries_listbox.yview)
        self.countries_listbox.configure(yscrollcommand=scrollbar.set)
        
        self.countries_listbox.pack(side='left', fill='both', expand=True)
        scrollbar.pack(side='right', fill='y')
        
        self.countries_listbox.bind('<<ListboxSelect>>', self.on_country_selected)
        
        self.details_frame = tk.LabelFrame(self.map_frame, text="Country Details",
                                          bg=self.colors['bg_primary'],
                                          fg=self.colors['text_primary'],
                                          font=("Arial", 11, "bold"))
        self.details_frame.pack(fill='x', padx=10, pady=10)
        
        self.details_text = scrolledtext.ScrolledText(self.details_frame, height=12, wrap=tk.WORD, font=("Arial", 10))
        self.details_text.pack(fill='both', expand=True, padx=5, pady=5)
        self.details_text.config(state=tk.DISABLED)
        
        nav_frame = tk.Frame(self.map_frame, bg=self.colors['bg_primary'])
        nav_frame.pack(pady=10)
        
        # Navigation buttons with light greenish-blue color
        mineral_map_btn = tk.Button(nav_frame, 
                                   text="🌍 Interactive Mineral Map", 
                                   command=lambda: self.notebook.select(5),
                                   font=("Arial", 10, "bold"),
                                   bg=self.colors['button_primary'],
                                   fg=self.colors['text_white'],
                                   padx=10,
                                   pady=6,
                                   cursor='hand2')
        mineral_map_btn.pack(side='left', padx=5)
        
        minerals_btn = tk.Button(nav_frame, 
                                text="💎 View Minerals", 
                                command=lambda: self.notebook.select(2),
                                font=("Arial", 10, "bold"),
                                bg=self.colors['button_primary'],
                                fg=self.colors['text_white'],
                                padx=10,
                                pady=6,
                                cursor='hand2')
        minerals_btn.pack(side='left', padx=5)
        
        dashboard_btn = tk.Button(nav_frame, 
                                 text="← Back to Dashboard", 
                                 command=lambda: self.notebook.select(1),
                                 font=("Arial", 10, "bold"),
                                 bg=self.colors['button_primary'],
                                 fg=self.colors['text_white'],
                                 padx=10,
                                 pady=6,
                                 cursor='hand2')
        dashboard_btn.pack(side='left', padx=5)
        
        self.load_countries_list()
    
    def load_countries_list(self):
        self.countries_listbox.delete(0, tk.END)
        countries = self.data_manager.get_countries()
        for country in countries:
            self.countries_listbox.insert(tk.END, country['name'])
    
    def get_country_from_json(self, country_name):
        """Get country data from JSON file by name"""
        countries = self.data_manager.load_data("countries.json")
        for country in countries:
            if country['name'].lower() == country_name.lower():
                return country
        return None
    
    def on_country_selected(self, event):
        """Handle country selection from listbox"""
        selection = self.countries_listbox.curselection()
        if selection:
            country_name = self.countries_listbox.get(selection[0])
            country_data = self.get_country_from_json(country_name)
            if country_data:
                self.show_country_details(country_data)
    
    def show_country_details(self, country_data):
        """Show detailed country information"""
        self.details_text.config(state=tk.NORMAL)
        self.details_text.delete(1.0, tk.END)
        
        details = f"🇦🇴 {country_data['name']}\n\n"
        
        # Get CSV data for additional information
        csv_country = self.data_manager.get_country_from_csv(country_data['name'])
        if csv_country:
            details += f"GDP: ${csv_country['GDP_BillionUSD']} Billion\n"
            details += f"Mining Revenue: ${csv_country['MiningRevenue_BillionUSD']} Billion\n"
        else:
            details += f"GDP: N/A\n"
            details += f"Mining Revenue: N/A\n"
        
        details += "\n"
        
        # Key minerals
        if 'key_minerals' in country_data:
            minerals_text = ", ".join(country_data['key_minerals'])
            details += f"Key Minerals: {minerals_text}\n\n"
        
        # Production statistics
        if 'production_stats' in country_data:
            details += "Production Statistics:\n"
            for mineral, production in country_data['production_stats'].items():
                details += f"  • {mineral}: {production}\n"
            details += "\n"
        
        # Economic information
        if 'mining_contribution' in country_data:
            details += f"Mining Contribution: {country_data['mining_contribution']}\n"
        if 'gdp_growth' in country_data:
            details += f"GDP Growth: {country_data['gdp_growth']}\n"
        
        details += "\n"
        
        # Key projects
        if 'key_projects' in country_data and country_data['key_projects']:
            details += "Key Projects:\n"
            for project in country_data['key_projects']:
                details += f"  • {project['name']} ({project['mineral']}) - {project['status']}\n"
        
        # Add mineral locations information
        mineral_locations = self.data_manager.get_mineral_locations(country_name=country_data['name'])
        if mineral_locations:
            details += "\nMajor Mining Projects:\n"
            for location in mineral_locations:
                details += f"  • {location['name']} ({location['mineral']}) - {location['status']}\n"
        
        self.details_text.insert(1.0, details)
        self.details_text.config(state=tk.DISABLED)
    
    def open_web_map(self):
        try:
            webbrowser.open('https://www.google.com/maps/@-8.7832,34.5085,4z')
            messagebox.showinfo("Info", "🌍 Opening African map in web browser")
        except Exception as e:
            messagebox.showerror("Error", "❌ Could not open web browser")
    
    def refresh_map(self):
        self.load_countries_list()
        self.details_text.config(state=tk.NORMAL)
        self.details_text.delete(1.0, tk.END)
        self.details_text.config(state=tk.DISABLED)
        messagebox.showinfo("Info", "🗺️ Map refreshed!")
# main_app.py
import tkinter as tk
from tkinter import ttk, messagebox
from data_manager import DataManager, setup_project_structure
from map_generator import MapGenerator
from ui_components import UIScreens

class CriticalMineralsApp:
    def __init__(self):
        self.root = tk.Tk()
        self.root.title("African Critical Minerals App")
        self.root.geometry("1200x800")
        
        # Setup refined color scheme
        self.setup_refined_colors()
        
        # Initialize data manager and map generator
        self.data_manager = DataManager()
        self.map_generator = MapGenerator(self.data_manager)
        self.current_user = None
        
        # Create notebook for screen management
        self.notebook = ttk.Notebook(self.root)
        self.notebook.pack(fill='both', expand=True, padx=10, pady=10)
        
        # Initialize UI screens
        self.ui_screens = UIScreens(self.root, self.notebook, self.data_manager, 
                                  self.map_generator, self.colors, self.current_user)
        
        # Configure styles
        self.configure_styles()
        
        # Setup event bindings
        self.setup_event_bindings()
        
        # Hide all tabs except login initially
        for i in range(1, 9):
            self.notebook.hide(i)
        
        # Cleanup on exit
        self.root.protocol("WM_DELETE_WINDOW", self.on_closing)
    
    def setup_refined_colors(self):
        """Setup refined color scheme"""
        self.colors = {
            # Pure bright white background
            'bg_primary': '#FFFFFF',
            'bg_secondary': '#F8F9FA',
            
            # Light greenish-blueish color for buttons
            'button_primary': '#20B2AA',  # Light Sea Green
            'button_hover': '#48D1CC',    # Medium Turquoise
            'button_active': '#008B8B',   # Dark Cyan
            
            # Text colors
            'text_primary': '#000000',    # Pure black
            'text_secondary': '#333333',  # Dark gray
            'text_light': '#666666',      # Medium gray
            'text_white': '#FFFFFF',      # Pure white
            
            # Mineral colors (kept for charts)
            'cobalt': '#DC2626',
            'lithium': '#2563EB',
            'graphite': '#059669',
            'manganese': '#7C3AED',
            
            # Chart colors
            'chart_blue': '#3B82F6',
            'chart_red': '#EF4444',
            'chart_green': '#10B981',
            'chart_yellow': '#F59E0B',
            'chart_purple': '#8B5CF6'
        }
    
    def configure_styles(self):
        """Configure styles for all widgets"""
        self.style = ttk.Style()
        self.style.configure('TFrame', background=self.colors['bg_primary'])
        self.style.configure('TLabel', background=self.colors['bg_primary'], 
                           foreground=self.colors['text_primary'])
        self.style.configure('TButton', background=self.colors['button_primary'], 
                           foreground=self.colors['text_white'])
        self.style.configure('TLabelframe', background=self.colors['bg_primary'])
        self.style.configure('TLabelframe.Label', background=self.colors['bg_primary'], 
                           foreground=self.colors['text_primary'])
    
    def setup_event_bindings(self):
        """Setup all event bindings for the application"""
        # Login screen
        self.ui_screens.login_btn.config(command=self.try_login)
        self.root.bind('<Return>', lambda event: self.try_login())
        
        # Dashboard screen
        self.ui_screens.logout_btn.config(command=self.logout)
        
        # Minerals screen
        self.ui_screens.minerals_back_btn.config(command=lambda: self.notebook.select(1))
        
        # Countries screen
        self.ui_screens.countries_back_btn.config(command=lambda: self.notebook.select(1))
        
        # Map screen
        self.ui_screens.web_map_btn.config(command=self.open_web_map)
        self.ui_screens.refresh_map_btn.config(command=self.refresh_map)
        self.ui_screens.mineral_map_nav_btn.config(command=lambda: self.notebook.select(5))
        self.ui_screens.minerals_nav_btn.config(command=lambda: self.notebook.select(2))
        self.ui_screens.dashboard_nav_btn.config(command=lambda: self.notebook.select(1))
        self.ui_screens.countries_listbox.bind('<<ListboxSelect>>', self.on_country_selected)
        
        # Mineral Map screen
        self.ui_screens.generate_map_btn.config(command=self.generate_interactive_map)
        self.ui_screens.country_map_nav_btn.config(command=lambda: self.notebook.select(4))
        self.ui_screens.minerals_nav_btn2.config(command=lambda: self.notebook.select(2))
        self.ui_screens.dashboard_nav_btn2.config(command=lambda: self.notebook.select(1))
        
        # Charts screen
        self.ui_screens.refresh_chart_btn.config(command=self.update_chart)
        self.ui_screens.chart_combo.bind('<<ComboboxSelected>>', self.update_chart)
        self.ui_screens.analytics_nav_btn.config(command=lambda: self.notebook.select(7))
        self.ui_screens.dashboard_nav_btn3.config(command=lambda: self.notebook.select(1))
        
        # Analytics screen
        self.ui_screens.refresh_analytics_btn.config(command=self.update_analytics)
        self.ui_screens.analytics_combo.bind('<<ComboboxSelected>>', self.update_analytics)
        self.ui_screens.charts_nav_btn.config(command=lambda: self.notebook.select(6))
        self.ui_screens.dashboard_nav_btn4.config(command=lambda: self.notebook.select(1))
        
        # Admin panel
        self.ui_screens.register_btn.config(command=self.register_user)
        self.ui_screens.edit_user_btn.config(command=self.edit_user)
        self.ui_screens.remove_user_btn.config(command=self.remove_user)
        self.ui_screens.refresh_users_btn.config(command=self.load_admin_panel)
        self.ui_screens.dashboard_nav_btn5.config(command=lambda: self.notebook.select(1))
        
        # Notebook tab change
        self.notebook.bind("<<NotebookTabChanged>>", self.on_tab_changed)
    
    def on_closing(self):
        """Clean up when application closes"""
        self.map_generator.cleanup()
        self.root.destroy()
    
    def on_tab_changed(self, event):
        """Handle tab changes"""
        current_tab = self.notebook.index(self.notebook.select())
        if current_tab == 2:  # Minerals tab
            self.load_minerals()
        elif current_tab == 3:  # Countries tab
            self.load_countries()
        elif current_tab == 4:  # Map tab
            self.load_countries_list()
        elif current_tab == 5:  # Mineral Map tab
            self.load_mineral_map()
        elif current_tab == 6:  # Charts tab
            self.load_charts()
        elif current_tab == 7:  # Analytics tab
            self.load_analytics()
        elif current_tab == 8:  # Admin Panel tab
            self.load_admin_panel()
    
    def try_login(self):
        username = self.ui_screens.username_entry.get()
        password = self.ui_screens.password_entry.get()
        
        user = self.data_manager.get_user_by_credentials(username, password)
        
        if user:
            self.current_user = user
            self.ui_screens.current_user = user
            messagebox.showinfo("Login Successful", f"Welcome, {user['role']}!")
            
            # Hide Login tab and show all other tabs
            self.notebook.hide(0)
            
            # Show all other tabs
            for i in range(1, 9):
                self.notebook.add(self.notebook.winfo_children()[i])
            
            self.notebook.select(1)
            self.update_dashboard()
        else:
            messagebox.showerror("Login Failed", "Invalid username or password")
    
    def update_dashboard(self):
        if self.current_user:
            user_role = self.current_user['role']
            self.ui_screens.welcome_label.config(
                text=f"Welcome, {self.current_user['username']}! Role: {user_role}"
            )
    
    def logout(self):
        self.current_user = None
        self.ui_screens.current_user = None
        # Hide all tabs except login
        for i in range(1, 9):
            self.notebook.hide(i)
        # Show login tab again
        self.notebook.add(self.ui_screens.login_frame, text="Login")
        self.notebook.select(0)
        self.ui_screens.username_entry.delete(0, tk.END)
        self.ui_screens.password_entry.delete(0, tk.END)
    
    def load_minerals(self):
        for widget in self.ui_screens.minerals_scrollable_frame.winfo_children():
            widget.destroy()
        
        minerals = self.data_manager.get_minerals()
        
        for mineral in minerals:
            # Create card with white background
            card = tk.Frame(self.ui_screens.minerals_scrollable_frame, 
                           bg=self.colors['bg_primary'],
                           relief='solid',
                           bd=1,
                           padx=15,
                           pady=10)
            card.pack(fill='x', padx=10, pady=8)
            
            # Mineral header with light greenish-blue color
            header_frame = tk.Frame(card, bg=self.colors['button_primary'])
            header_frame.pack(fill='x', pady=(0, 10))
            
            name_label = tk.Label(header_frame, 
                                 text=mineral['name'],
                                 font=("Arial", 14, "bold"),
                                 bg=self.colors['button_primary'],
                                 fg=self.colors['text_white'],
                                 padx=10,
                                 pady=8)
            name_label.pack(anchor='w')
            
            # Market price
            market_price = f"Market Price: ${mineral.get('market_price', 'N/A'):,}/tonne" if mineral.get('market_price') else "Market Price: N/A"
            price_label = tk.Label(card, 
                                  text=market_price,
                                  font=("Arial", 11, "bold"),
                                  bg=self.colors['bg_primary'],
                                  fg=self.colors['text_primary'],
                                  pady=5)
            price_label.pack(anchor='w')
            
            # Description
            desc_label = tk.Label(card, 
                                 text=mineral['description'],
                                 wraplength=700,
                                 justify='left',
                                 bg=self.colors['bg_primary'],
                                 fg=self.colors['text_primary'],
                                 pady=3)
            desc_label.pack(anchor='w')
            
            # Uses with bullet points
            uses_text = "• " + "\n• ".join(mineral['uses'])
            uses_label = tk.Label(card, 
                                 text=f"Uses:\n{uses_text}",
                                 wraplength=700,
                                 justify='left',
                                 bg=self.colors['bg_primary'],
                                 fg=self.colors['text_secondary'],
                                 pady=3)
            uses_label.pack(anchor='w')
    
    def load_countries(self):
        for widget in self.ui_screens.countries_scrollable_frame.winfo_children():
            widget.destroy()
        
        countries = self.data_manager.get_countries()
        
        for country in countries:
            # Create card with white background
            card = tk.Frame(self.ui_screens.countries_scrollable_frame, 
                           bg=self.colors['bg_primary'],
                           relief='solid',
                           bd=1,
                           padx=15,
                           pady=12)
            card.pack(fill='x', padx=10, pady=8)
            
            # Country header with light greenish-blue color
            header_frame = tk.Frame(card, bg=self.colors['button_primary'])
            header_frame.pack(fill='x', pady=(0, 10))
            
            name_label = tk.Label(header_frame, 
                                 text=country['name'],
                                 font=("Arial", 14, "bold"),
                                 bg=self.colors['button_primary'],
                                 fg=self.colors['text_white'],
                                 padx=10,
                                 pady=8)
            name_label.pack(anchor='w')
            
            # Economic info
            gdp_value = country.get('gdp', 'N/A')
            mining_revenue_value = country.get('mining_revenue', 'N/A')
            gdp_text = f"GDP: ${gdp_value}B | Mining Revenue: ${mining_revenue_value}B"
            gdp_label = tk.Label(card, 
                                text=gdp_text,
                                font=("Arial", 11, "bold"),
                                bg=self.colors['bg_primary'],
                                fg=self.colors['text_primary'],
                                pady=5)
            gdp_label.pack(anchor='w')
            
            # Key minerals
            minerals_text = "Key Minerals: " + ", ".join(country['key_minerals'])
            minerals_label = tk.Label(card, 
                                     text=minerals_text,
                                     wraplength=700,
                                     bg=self.colors['bg_primary'],
                                     fg=self.colors['text_primary'],
                                     pady=3)
            minerals_label.pack(anchor='w')
    
    def load_countries_list(self):
        self.ui_screens.countries_listbox.delete(0, tk.END)
        countries = self.data_manager.get_countries()
        for country in countries:
            self.ui_screens.countries_listbox.insert(tk.END, country['name'])
    
    def on_country_selected(self, event):
        selection = self.ui_screens.countries_listbox.curselection()
        if selection:
            country_name = self.ui_screens.countries_listbox.get(selection[0])
            country_data = self.get_country_from_json(country_name)
            if country_data:
                self.show_country_details(country_data)
    
    def get_country_from_json(self, country_name):
        countries = self.data_manager.load_data("countries.json")
        for country in countries:
            if country['name'].lower() == country_name.lower():
                return country
        return None
    
    def show_country_details(self, country_data):
        self.ui_screens.details_text.config(state=tk.NORMAL)
        self.ui_screens.details_text.delete(1.0, tk.END)
        
        details = f"🇦🇴 {country_data['name']}\n\n"
        
        # Get CSV data for additional information
        csv_country = self.data_manager.get_country_from_csv(country_data['name'])
        if csv_country:
            details += f"GDP: ${csv_country['GDP_BillionUSD']} Billion\n"
            details += f"Mining Revenue: ${csv_country['MiningRevenue_BillionUSD']} Billion\n"
        else:
            details += f"GDP: N/A\n"
            details += f"Mining Revenue: N/A\n"
        
        details += "\n"
        
        # Key minerals
        if 'key_minerals' in country_data:
            minerals_text = ", ".join(country_data['key_minerals'])
            details += f"Key Minerals: {minerals_text}\n\n"
        
        # Production statistics
        if 'production_stats' in country_data:
            details += "Production Statistics:\n"
            for mineral, production in country_data['production_stats'].items():
                details += f"  • {mineral}: {production}\n"
            details += "\n"
        
        self.ui_screens.details_text.insert(1.0, details)
        self.ui_screens.details_text.config(state=tk.DISABLED)
    
    def open_web_map(self):
        try:
            webbrowser.open('https://www.google.com/maps/@-8.7832,34.5085,4z')
            messagebox.showinfo("Info", "🌍 Opening African map in web browser")
        except Exception as e:
            messagebox.showerror("Error", "❌ Could not open web browser")
    
    def refresh_map(self):
        self.load_countries_list()
        self.ui_screens.details_text.config(state=tk.NORMAL)
        self.ui_screens.details_text.delete(1.0, tk.END)
        self.ui_screens.details_text.config(state=tk.DISABLED)
        messagebox.showinfo("Info", "🗺️ Map refreshed!")
    
    def generate_interactive_map(self):
        self.ui_screens.map_status_label.config(text="Generating map...")
        
        def generate_map_thread():
            try:
                mineral_filter = self.ui_screens.mineral_filter_var.get()
                country_filter = self.ui_screens.country_filter_var.get()
                
                map_file = self.map_generator.create_mineral_map(mineral_filter, country_filter)
                
                self.root.after(0, lambda: self.display_map(map_file))
                
            except Exception as e:
                self.root.after(0, lambda: self.ui_screens.map_status_label.config(text=f"Error: {str(e)}"))
        
        import threading
        thread = threading.Thread(target=generate_map_thread)
        thread.daemon = True
        thread.start()
    
    def display_map(self, map_file):
        try:
            import webbrowser
            webbrowser.open('file://' + os.path.abspath(map_file))
            self.ui_screens.map_status_label.config(text="Map opened in browser!")
            messagebox.showinfo("Map Generated", 
                              "🌍 Interactive mineral map has been generated and opened in your web browser!\n\n"
                              "Features:\n"
                              "• Click on markers for detailed information\n"
                              "• Zoom and pan to explore locations\n"
                              "• Use fullscreen mode for better viewing\n"
                              "• Measure distances between locations")
        except Exception as e:
            self.ui_screens.map_status_label.config(text=f"Error opening map: {str(e)}")
            messagebox.showerror("Error", f"Could not open map: {str(e)}")
    
    def load_mineral_map(self):
        self.ui_screens.map_status_label.config(text="Ready to generate map")
    
    def load_charts(self):
        self.update_chart()
    
    def update_chart(self, event=None):
        # This would contain the chart creation logic
        # For now, we'll just show a placeholder
        for widget in self.ui_screens.chart_container.winfo_children():
            widget.destroy()
        
        chart_type = self.ui_screens.chart_var.get()
        placeholder = tk.Label(self.ui_screens.chart_container, 
                              text=f"Chart: {chart_type}\n\nChart visualization would appear here",
                              font=("Arial", 14),
                              bg=self.colors['bg_primary'],
                              fg=self.colors['text_secondary'])
        placeholder.pack(expand=True)
    
    def load_analytics(self):
        self.update_analytics()
    
    def update_analytics(self, event=None):
        for widget in self.ui_screens.analytics_container.winfo_children():
            widget.destroy()
        
        analysis_type = self.ui_screens.analytics_var.get()
        placeholder = tk.Label(self.ui_screens.analytics_container, 
                              text=f"Analysis: {analysis_type}\n\nAnalytics visualization would appear here",
                              font=("Arial", 14),
                              bg=self.colors['bg_primary'],
                              fg=self.colors['text_secondary'])
        placeholder.pack(expand=True)
    
    def load_admin_panel(self):
        if self.current_user and self.current_user['role'] == 'Administrator':
            self.ui_screens.admin_access_label.config(text="✅ Administrator access granted", fg="green")
            self.load_users_list()
        else:
            self.ui_screens.admin_access_label.config(text="❌ Administrator access required", fg="red")
            # Clear user list if not admin
            for item in self.ui_screens.users_tree.get_children():
                self.ui_screens.users_tree.delete(item)
    
    def load_users_list(self):
        for item in self.ui_screens.users_tree.get_children():
            self.ui_screens.users_tree.delete(item)
        
        users = self.data_manager.load_data("users.json")
        for user in users:
            self.ui_screens.users_tree.insert("", "end", values=(user['username'], user['role']))
    
    def register_user(self):
        username = self.ui_screens.new_username.get().strip()
        password = self.ui_screens.new_password.get().strip()
        role = self.ui_screens.new_role.get().strip()
        
        if not username or not password or not role:
            messagebox.showerror("Error", "Please fill in all fields")
            return
        
        # Check if user is administrator
        if not self.current_user or self.current_user['role'] != 'Administrator':
            messagebox.showerror("Error", "Administrator privileges required to register users")
            return
        
        # Load existing users
        users = self.data_manager.load_data("users.json")
        
        # Check if username already exists
        for user in users:
            if user['username'] == username:
                messagebox.showerror("Error", f"Username '{username}' already exists")
                return
        
        # Add new user
        new_user = {
            "username": username,
            "password": password,
            "role": role
        }
        users.append(new_user)
        
        # Save updated users list
        if self.data_manager.save_data("users.json", users):
            messagebox.showinfo("Success", f"User '{username}' registered successfully as {role}")
            self.ui_screens.new_username.delete(0, tk.END)
            self.ui_screens.new_password.delete(0, tk.END)
            self.ui_screens.new_role.set("Investor")
            self.load_users_list()
        else:
            messagebox.showerror("Error", "Failed to save user data")
    
    def edit_user(self):
        selection = self.ui_screens.users_tree.selection()
        if not selection:
            messagebox.showwarning("Warning", "Please select a user to edit")
            return
        
        # Check if user is administrator
        if not self.current_user or self.current_user['role'] != 'Administrator':
            messagebox.showerror("Error", "Administrator privileges required to edit users")
            return
        
        item = selection[0]
        username = self.ui_screens.users_tree.item(item, "values")[0]
        
        # Load users
        users = self.data_manager.load_data("users.json")
        
        # Find the user to edit
        user_to_edit = None
        for user in users:
            if user['username'] == username:
                user_to_edit = user
                break
        
        if not user_to_edit:
            messagebox.showerror("Error", "User not found")
            return
        
        # Create edit dialog
        edit_window = tk.Toplevel(self.root)
        edit_window.title(f"Edit User: {username}")
        edit_window.geometry("300x200")
        edit_window.configure(bg=self.colors['bg_primary'])
        edit_window.transient(self.root)
        edit_window.grab_set()
        
        title_label = tk.Label(edit_window, 
                              text=f"Editing User: {username}", 
                              font=("Arial", 12, "bold"),
                              bg=self.colors['bg_primary'],
                              fg=self.colors['text_primary'])
        title_label.pack(pady=10)
        
        tk.Label(edit_window, text="New Password:", 
                font=("Arial", 10, "bold"),
                bg=self.colors['bg_primary'],
                fg=self.colors['text_primary']).pack(pady=5)
        password_entry = tk.Entry(edit_window, width=20, show="*", font=("Arial", 10))
        password_entry.insert(0, user_to_edit['password'])
        password_entry.pack(pady=5)
        
        tk.Label(edit_window, text="New Role:", 
                font=("Arial", 10, "bold"),
                bg=self.colors['bg_primary'],
                fg=self.colors['text_primary']).pack(pady=5)
        role_combo = ttk.Combobox(edit_window, width=18,
                                 values=["Administrator", "Investor", "Researcher"])
        role_combo.set(user_to_edit['role'])
        role_combo.pack(pady=5)
        
        def save_changes():
            new_password = password_entry.get().strip()
            new_role = role_combo.get().strip()
            
            if not new_password or not new_role:
                messagebox.showerror("Error", "Please fill in all fields")
                return
            
            # Update user data
            user_to_edit['password'] = new_password
            user_to_edit['role'] = new_role
            
            # Save changes
            if self.data_manager.save_data("users.json", users):
                messagebox.showinfo("Success", f"User '{username}' updated successfully")
                edit_window.destroy()
                self.load_users_list()
            else:
                messagebox.showerror("Error", "Failed to save user data")
        
        save_btn = tk.Button(edit_window, 
                            text="💾 Save Changes", 
                            command=save_changes,
                            font=("Arial", 10, "bold"),
                            bg=self.colors['button_primary'],
                            fg=self.colors['text_white'],
                            padx=15,
                            pady=8,
                            cursor='hand2')
        save_btn.pack(pady=10)
    
    def remove_user(self):
        selection = self.ui_screens.users_tree.selection()
        if not selection:
            messagebox.showwarning("Warning", "Please select a user to remove")
            return
        
        # Check if user is administrator
        if not self.current_user or self.current_user['role'] != 'Administrator':
            messagebox.showerror("Error", "Administrator privileges required to remove users")
            return
        
        item = selection[0]
        username = self.ui_screens.users_tree.item(item, "values")[0]
        
        # Prevent self-removal
        if username == self.current_user['username']:
            messagebox.showerror("Error", "You cannot remove your own account")
            return
        
        # Confirm deletion
        result = messagebox.askyesno("Confirm Removal", 
                                   f"Are you sure you want to remove user '{username}'?")
        if not result:
            return
        
        # Load users
        users = self.data_manager.load_data("users.json")
        
        # Remove user
        users = [user for user in users if user['username'] != username]
        
        # Save changes
        if self.data_manager.save_data("users.json", users):
            messagebox.showinfo("Success", f"User '{username}' removed successfully")
            self.load_users_list()
        else:
            messagebox.showerror("Error", "Failed to save user data")
    
    def run(self):
        self.root.mainloop()

# Main execution
if __name__ == '__main__':
    # Setup project structure
    setup_project_structure()
    
    # Create and run the application
    app = CriticalMineralsApp()
    app.run()
